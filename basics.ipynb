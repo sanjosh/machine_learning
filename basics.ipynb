{
 "cells": [
  {
   "cell_type": "markdown",
   "metadata": {},
   "source": [
    "### expand notebook width"
   ]
  },
  {
   "cell_type": "code",
   "execution_count": null,
   "metadata": {},
   "outputs": [],
   "source": [
    "from IPython.display import display, HTML\n",
    "display(HTML(data=\"\"\"\n",
    "<style>\n",
    "    div#notebook-container    { width: 95%; }\n",
    "    div#menubar-container     { width: 65%; }\n",
    "    div#maintoolbar-container { width: 99%; }\n",
    "</style>\n",
    "\"\"\")) "
   ]
  },
  {
   "cell_type": "code",
   "execution_count": null,
   "metadata": {},
   "outputs": [],
   "source": [
    "import pandas as pd\n",
    "pd.set_option('display.max_rows', 1000)\n",
    "pd.set_option('display.max_columns', 1000)\n",
    "pd.set_option('display.width', 1000)\n",
    "pd.set_option('display.max_info_columns', 500)\n",
    "pd.set_option('display.max_info_rows', 500)"
   ]
  },
  {
   "cell_type": "code",
   "execution_count": null,
   "metadata": {},
   "outputs": [],
   "source": [
    "import seaborn as sns\n",
    "sns.set_style(style='darkgrid') "
   ]
  },
  {
   "cell_type": "markdown",
   "metadata": {},
   "source": [
    "### Supress Warnings"
   ]
  },
  {
   "cell_type": "code",
   "execution_count": null,
   "metadata": {},
   "outputs": [],
   "source": [
    "import warnings\n",
    "warnings.filterwarnings('ignore')"
   ]
  },
  {
   "cell_type": "markdown",
   "metadata": {},
   "source": [
    "### replace inf"
   ]
  },
  {
   "cell_type": "markdown",
   "metadata": {},
   "source": [
    "### replace null "
   ]
  },
  {
   "cell_type": "markdown",
   "metadata": {},
   "source": [
    "### plot correlation"
   ]
  },
  {
   "cell_type": "markdown",
   "metadata": {},
   "source": [
    "### check for outliers"
   ]
  },
  {
   "cell_type": "code",
   "execution_count": null,
   "metadata": {},
   "outputs": [],
   "source": [
    "features = list (df.columns)[1:]\n",
    "\n",
    "plt.figure(figsize = (18,20))\n",
    "for i in enumerate(features):\n",
    "    plt.subplot(5,5, i[0]+1)\n",
    "    sns.boxplot(x = i[1], data = df)\n",
    "plt.show()\n",
    "\n",
    "plt.figure(figsize = (18,20))\n",
    "for i in enumerate(features):\n",
    "    plt.subplot(5,4, i[0]+1)\n",
    "    sns.scatterplot(x=df.index, y = i[1], data = df)"
   ]
  },
  {
   "cell_type": "markdown",
   "metadata": {},
   "source": [
    "### run PCA again based on explained variance"
   ]
  },
  {
   "cell_type": "code",
   "execution_count": null,
   "metadata": {},
   "outputs": [],
   "source": [
    "from sklearn.decomposition import PCA\n",
    "pca = PCA(random_state=42)\n",
    "pca.fit(df[features])\n",
    "\n",
    "index=0\n",
    "sum=0\n",
    "for r in pca.explained_variance_ratio_:\n",
    "    sum += r\n",
    "    index += 1\n",
    "    printmd ('The cumulative variance with %s variables is **%.2f%%**.' % (i, round(sum*100)))\n",
    "    \n",
    "var_cumu = np.cumsum(pca.explained_variance_ratio_)\n",
    "fig = plt.figure(figsize=[6,4])\n",
    "plt.vlines(x=4, ymax=1, ymin=0, colors=\"r\", linestyles=\"--\")\n",
    "plt.hlines(y=0.95, xmax=10, xmin=0, colors=\"g\", linestyles=\"--\")\n",
    "plt.plot(var_cumu)\n",
    "plt.ylabel(\"Cumulative variance explained\")\n",
    "plt.show()\n",
    "\n",
    "pca_final = PCA(n_components=5, random_state=42)\n",
    "df_pca = pca_final.fit_transform(df[features])\n",
    "df_pca = pd.DataFrame(df)\n",
    "df_pca.shape"
   ]
  },
  {
   "cell_type": "markdown",
   "metadata": {},
   "source": [
    "### run K-means based on silhoeutte score and inertia, after hopkins\n",
    "\n",
    "first check hopkins statistic \n",
    "\n",
    "the null hypothesis (no meaningfull cluster) happens when the hopkins test is around 0.5 \n",
    "the hopkins test tends to 0 when meaningful cluster exists in the space\n",
    "existence of clusters when the hopkins score is bellow 0.25.\n",
    "the hopkins test is highly influenced by outliers, use with normalised data.\n",
    "https://www.kaggle.com/lachhebo/hopkins-test"
   ]
  },
  {
   "cell_type": "code",
   "execution_count": null,
   "metadata": {},
   "outputs": [],
   "source": [
    "from pyclustertend import hopkins \n",
    "from sklearn.preprocessing import scale\n",
    "\n",
    "hopkins(scale(df), df.shape[0])"
   ]
  },
  {
   "cell_type": "code",
   "execution_count": null,
   "metadata": {},
   "outputs": [],
   "source": [
    "from sklearn.cluster import KMeans\n",
    "from sklearn.metrics import silhouette_score\n",
    "\n",
    "sil = []\n",
    "for k in range(2,10):\n",
    "    kmeans = KMeans(n_clusters  = k).fit(df)\n",
    "    sil.append([k,silhouette_score(df, kmeans.labels_)])\n",
    "    \n",
    "plt.plot(pd.DataFrame(sil)[0], pd.DataFrame(sil)[1])\n",
    "plt.vlines(x=3, ymax=0.35, ymin=0.25, colors=\"r\", linestyles=\"--\")\n",
    "plt.hlines(y=0.30, xmax=10, xmin=0, colors=\"g\", linestyles=\"--\")\n",
    "plt.show()\n",
    "\n",
    "ssd = []\n",
    "for k in range(2,10):\n",
    "    k_mean = KMeans(n_clusters = k).fit(df_countries_pca)\n",
    "    ssd.append([k, k_mean.inertia_])\n",
    "    \n",
    "plt.plot(pd.DataFrame(ssd)[0], pd.DataFrame(ssd)[1])\n",
    "\n",
    "kmean5 = KMeans(n_clusters = 3, random_state=42)\n",
    "kmean5.fit(df)"
   ]
  }
 ],
 "metadata": {
  "kernelspec": {
   "display_name": "Python 3",
   "language": "python",
   "name": "python3"
  },
  "language_info": {
   "codemirror_mode": {
    "name": "ipython",
    "version": 3
   },
   "file_extension": ".py",
   "mimetype": "text/x-python",
   "name": "python",
   "nbconvert_exporter": "python",
   "pygments_lexer": "ipython3",
   "version": "3.8.2"
  }
 },
 "nbformat": 4,
 "nbformat_minor": 4
}
