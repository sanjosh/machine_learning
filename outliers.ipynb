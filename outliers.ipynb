{
 "cells": [
  {
   "cell_type": "code",
   "execution_count": null,
   "metadata": {},
   "outputs": [],
   "source": [
    "import seaborn as sns\n",
    "import pandas as pd\n",
    "\n",
    "features = list (df.columns)[1:]\n",
    "\n",
    "plt.figure(figsize = (18,20))\n",
    "for i in enumerate(features):\n",
    "    plt.subplot(5,5, i[0]+1)\n",
    "    sns.boxplot(x = i[1], data = df)\n",
    "plt.show()\n",
    "\n",
    "plt.figure(figsize = (18,20))\n",
    "for i in enumerate(features):\n",
    "    plt.subplot(5,4, i[0]+1)\n",
    "    sns.scatterplot(x=df.index, y = i[1], data = df)"
   ]
  }
 ],
 "metadata": {
  "kernelspec": {
   "display_name": "Python 3",
   "language": "python",
   "name": "python3"
  },
  "language_info": {
   "codemirror_mode": {
    "name": "ipython",
    "version": 3
   },
   "file_extension": ".py",
   "mimetype": "text/x-python",
   "name": "python",
   "nbconvert_exporter": "python",
   "pygments_lexer": "ipython3",
   "version": "3.8.2"
  }
 },
 "nbformat": 4,
 "nbformat_minor": 4
}
