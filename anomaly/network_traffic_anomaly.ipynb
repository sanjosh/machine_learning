{
 "cells": [
  {
   "cell_type": "markdown",
   "metadata": {},
   "source": [
    "### network traffic\n",
    "\n",
    "https://www.kaggle.com/crawford/computer-network-traffic\n",
    "\n",
    "Each row consists of four columns:\n",
    "\n",
    "date: yyyy-mm-dd (from 2006-07-01 through 2006-09-30)\n",
    "l_ipn: local IP (coded as an integer from 0-9)\n",
    "r_asn: remote ASN (an integer which identifies the remote ISP)\n",
    "f: flows (count of connnections for that day)\n",
    "\n",
    "compromises detected on, but may have happened before\n",
    "Date : IP\n",
    "08-24 : 1\n",
    "09-04 : 5\n",
    "09-18 : 4\n",
    "09-26 : 3 6\n",
    "\n",
    "1, 3, 4, 5, 6 are compromised.  the other 5 are not"
   ]
  },
  {
   "cell_type": "code",
   "execution_count": null,
   "metadata": {},
   "outputs": [],
   "source": [
    "import pandas as pd\n",
    "import matplotlib.pyplot as plt\n"
   ]
  },
  {
   "cell_type": "code",
   "execution_count": null,
   "metadata": {},
   "outputs": [],
   "source": [
    "df = pd.read_csv('~/datasets/ComputerNetworkTraffic/cs448b_ipasn.csv')"
   ]
  },
  {
   "cell_type": "code",
   "execution_count": null,
   "metadata": {},
   "outputs": [],
   "source": [
    "def set_ts_index(df):\n",
    "    # convert the column (it's a string) to datetime type\n",
    "    datetime_series = pd.to_datetime(df['date'], format='%Y-%m-%d', errors='raise')\n",
    "\n",
    "    # create datetime index passing the datetime series\n",
    "    datetime_index = pd.DatetimeIndex(datetime_series)\n",
    "    \n",
    "    # assignment is required for index to change (IMP)\n",
    "    df = df.set_index(datetime_index)\n",
    "    df = df.drop(columns=['date'])\n",
    "    return df"
   ]
  },
  {
   "cell_type": "code",
   "execution_count": null,
   "metadata": {},
   "outputs": [],
   "source": [
    "df = set_ts_index(df)"
   ]
  },
  {
   "cell_type": "code",
   "execution_count": null,
   "metadata": {},
   "outputs": [],
   "source": [
    "df.head()"
   ]
  },
  {
   "cell_type": "code",
   "execution_count": null,
   "metadata": {},
   "outputs": [],
   "source": [
    "df.describe()"
   ]
  },
  {
   "cell_type": "code",
   "execution_count": null,
   "metadata": {},
   "outputs": [],
   "source": [
    "df.info()"
   ]
  },
  {
   "cell_type": "markdown",
   "metadata": {},
   "source": [
    "### ASN with which communication before breach"
   ]
  },
  {
   "cell_type": "code",
   "execution_count": null,
   "metadata": {},
   "outputs": [],
   "source": [
    "df1 = df[(df.l_ipn == 1) & (df.index <= '2006-08-24') | \n",
    "         (df.l_ipn == 3) & (df.index <= '2006-09-26') |\n",
    "         (df.l_ipn == 6) & (df.index <= '2006-09-26') |\n",
    "         (df.l_ipn == 4) & (df.index <= '2006-09-18') |\n",
    "         (df.l_ipn == 5) & (df.index <= '2006-09-04')\n",
    "        ]"
   ]
  },
  {
   "cell_type": "code",
   "execution_count": null,
   "metadata": {},
   "outputs": [],
   "source": [
    "df1.describe()"
   ]
  },
  {
   "cell_type": "code",
   "execution_count": null,
   "metadata": {},
   "outputs": [],
   "source": [
    "df1.info()"
   ]
  },
  {
   "cell_type": "code",
   "execution_count": null,
   "metadata": {},
   "outputs": [],
   "source": [
    "df1.head()"
   ]
  },
  {
   "cell_type": "code",
   "execution_count": null,
   "metadata": {},
   "outputs": [],
   "source": [
    "df1.info()\n",
    "len(df1.r_asn.unique())"
   ]
  },
  {
   "cell_type": "code",
   "execution_count": null,
   "metadata": {},
   "outputs": [],
   "source": [
    "df.info()\n",
    "len(df.r_asn.unique())"
   ]
  },
  {
   "cell_type": "markdown",
   "metadata": {},
   "source": [
    "### local ips with no breach"
   ]
  },
  {
   "cell_type": "code",
   "execution_count": null,
   "metadata": {},
   "outputs": [],
   "source": [
    "df2 = df[(df.l_ipn != 1) &\n",
    "         (df.l_ipn != 3) &\n",
    "         (df.l_ipn != 6) &\n",
    "         (df.l_ipn != 4) &\n",
    "         (df.l_ipn != 5)\n",
    "        ]                  "
   ]
  },
  {
   "cell_type": "code",
   "execution_count": null,
   "metadata": {},
   "outputs": [],
   "source": [
    "df2.info()\n",
    "len((df2.r_asn.unique()))"
   ]
  },
  {
   "cell_type": "code",
   "execution_count": null,
   "metadata": {},
   "outputs": [],
   "source": [
    "df2.r_asn.unique()"
   ]
  },
  {
   "cell_type": "code",
   "execution_count": null,
   "metadata": {},
   "outputs": [],
   "source": [
    "import numpy as np\n",
    "innocent_asn = np.setdiff1d(df2.r_asn.unique(),df1.r_asn.unique())\n",
    "# yields the ASN in `df2` (not compromised) that are NOT in `df1`\n",
    "len(innocent_asn)"
   ]
  },
  {
   "cell_type": "code",
   "execution_count": null,
   "metadata": {},
   "outputs": [],
   "source": [
    "maybe_guilty_asn = np.setdiff1d(df1.r_asn.unique(),df2.r_asn.unique())\n",
    "# yields the ASN in `df1` (compromised) that are NOT in `df2`\n",
    "len(maybe_guilty_asn)"
   ]
  },
  {
   "cell_type": "code",
   "execution_count": null,
   "metadata": {},
   "outputs": [],
   "source": [
    "common_asn = np.intersect1d(df1.r_asn.unique(),df2.r_asn.unique()) \n",
    "len(common_asn)"
   ]
  },
  {
   "cell_type": "markdown",
   "metadata": {},
   "source": [
    "### from\n",
    "\n",
    "https://www.kaggle.com/ashutoshmaheshwari/bot-detection-prophet-and-luminol"
   ]
  },
  {
   "cell_type": "code",
   "execution_count": null,
   "metadata": {},
   "outputs": [],
   "source": [
    "dic = {'2006-08-24':1,'2006-09-04':5,'2006-09-18':4,'2006-09-26':3,'2006-09-26':6}\n",
    "marked_anomalies = pd.DataFrame.from_dict(dic,orient='index')\n",
    "marked_anomalies.reset_index(inplace = True)\n",
    "marked_anomalies.columns = ['date','l_ipn']\n",
    "print(marked_anomalies)"
   ]
  },
  {
   "cell_type": "markdown",
   "metadata": {},
   "source": [
    "### Aggregating daily connections by date \n"
   ]
  },
  {
   "cell_type": "code",
   "execution_count": null,
   "metadata": {},
   "outputs": [],
   "source": [
    "daily_aggregate = df.groupby(['date'])[['f']].sum()\n",
    "daily_aggregate.reset_index(inplace = True)\n",
    "daily_aggregate"
   ]
  },
  {
   "cell_type": "code",
   "execution_count": null,
   "metadata": {},
   "outputs": [],
   "source": [
    "daily_mean = round(daily_aggregate['f'].mean(),2)\n"
   ]
  },
  {
   "cell_type": "code",
   "execution_count": null,
   "metadata": {},
   "outputs": [],
   "source": [
    "plt.figure(figsize=(15,5))\n",
    "\n",
    "# number of flows per day\n",
    "plt.plot(daily_aggregate['date'],daily_aggregate['f'])\n",
    "\n",
    "# add anomaly lines\n",
    "\n",
    "for _x, ip in list(marked_anomalies[['date','l_ipn']].to_records(index=False)):\n",
    "    plt.axvline(x=pd.to_datetime(_x), color='r' , label = 'Recorded Anomaly {}'.format(ip)) \n",
    "\n",
    "\n",
    "# add mean\n",
    "plt.axhline(y= daily_mean, color='g', label = 'Mean Connections')\n",
    "\n",
    "# rolling mean line\n",
    "plt.plot(daily_aggregate['date'],daily_aggregate['f'].rolling(7).mean(), label = '7 days Rolling average')\n",
    "\n",
    "# fill between \n",
    "plt.xticks(daily_aggregate['date'][::2],  rotation='vertical')\n",
    "plt.yscale('log')\n",
    "plt.xlabel('date')\n",
    "plt.ylabel('Connection')\n",
    "plt.title('Daily Aggregate Connections')\n",
    "plt.fill_between(daily_aggregate['date'],daily_aggregate['f'],color='aqua')\n",
    "plt.legend()\n",
    "plt.show()"
   ]
  },
  {
   "cell_type": "markdown",
   "metadata": {},
   "source": [
    "### Aggregating daily connections by date and local IP"
   ]
  },
  {
   "cell_type": "code",
   "execution_count": null,
   "metadata": {},
   "outputs": [],
   "source": [
    "daily_aggregate_l_ipn = df.groupby(['l_ipn','date'])[['f']].sum()\n",
    "daily_aggregate_l_ipn.reset_index(inplace= True)\n",
    "daily_aggregate_l_ipn"
   ]
  },
  {
   "cell_type": "code",
   "execution_count": null,
   "metadata": {},
   "outputs": [],
   "source": [
    "import matplotlib.dates as mdates\n",
    "\n",
    "# nrows x ncols = number of local ip\n",
    "fig, axes = plt.subplots(nrows=5, ncols=2, figsize=(20, 15))\n",
    "\n",
    "plot_row = 0\n",
    "plot_col = 0\n",
    "\n",
    "for i in range(df['l_ipn'].nunique()):\n",
    "    temp = daily_aggregate_l_ipn[daily_aggregate_l_ipn['l_ipn'] == i]\n",
    "    axes[plot_row,plot_col].set_title(i)\n",
    "    axes[plot_row,plot_col].set_xlabel('date')\n",
    "    axes[plot_row,plot_col].set_ylabel('connections')\n",
    "    \n",
    "    axes[plot_row,plot_col].xaxis.set_major_formatter(mdates.DateFormatter('%Y-%m-%d'))\n",
    "    \n",
    "    axes[plot_row,plot_col].plot(pd.to_datetime(temp['date']),temp['f'], color = 'salmon')\n",
    "    axes[plot_row,plot_col].get_xaxis().set_visible(False)\n",
    "    axes[plot_row,plot_col].fill_between(temp['date'],temp['f'], color='peachpuff')\n",
    "    \n",
    "\n",
    "    plot_col = plot_col + 1\n",
    "    if(plot_col == 2):\n",
    "        plot_row = plot_row + 1\n",
    "        plot_col = 0\n",
    "plt.show()"
   ]
  },
  {
   "cell_type": "markdown",
   "metadata": {},
   "source": [
    "### aggregate flows by ASN"
   ]
  },
  {
   "cell_type": "code",
   "execution_count": null,
   "metadata": {},
   "outputs": [],
   "source": [
    "daily_aggregate_r_asn = df.groupby(['r_asn'])[['f']].sum()\n",
    "daily_aggregate_r_asn.reset_index(inplace = True)"
   ]
  },
  {
   "cell_type": "code",
   "execution_count": null,
   "metadata": {},
   "outputs": [],
   "source": [
    "plt.figure(figsize=(10,5))\n",
    "plt.title(i)\n",
    "plt.xlabel('r_asn')\n",
    "plt.ylabel('connections')\n",
    "plt.xticks(rotation='vertical')\n",
    "#n_bins =  daily_aggregate_r_asn['r_asn']\n",
    "#plt.hist(daily_aggregate_r_asn['f'], n_bins, histtype ='bar')\n",
    "plt.plot(daily_aggregate_r_asn['r_asn'],daily_aggregate_r_asn['f'], color = 'salmon')\n",
    "plt.show()"
   ]
  },
  {
   "cell_type": "code",
   "execution_count": null,
   "metadata": {},
   "outputs": [],
   "source": []
  }
 ],
 "metadata": {
  "kernelspec": {
   "display_name": "Python 3",
   "language": "python",
   "name": "python3"
  },
  "language_info": {
   "codemirror_mode": {
    "name": "ipython",
    "version": 3
   },
   "file_extension": ".py",
   "mimetype": "text/x-python",
   "name": "python",
   "nbconvert_exporter": "python",
   "pygments_lexer": "ipython3",
   "version": "3.8.5"
  }
 },
 "nbformat": 4,
 "nbformat_minor": 4
}
