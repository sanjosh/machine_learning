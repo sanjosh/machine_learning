{
 "cells": [
  {
   "cell_type": "code",
   "execution_count": null,
   "metadata": {},
   "outputs": [],
   "source": [
    "import scipy"
   ]
  },
  {
   "cell_type": "code",
   "execution_count": null,
   "metadata": {},
   "outputs": [],
   "source": [
    "import sklearn"
   ]
  },
  {
   "cell_type": "code",
   "execution_count": null,
   "metadata": {},
   "outputs": [],
   "source": [
    "import numpy as np\n",
    "import rrcf"
   ]
  },
  {
   "cell_type": "code",
   "execution_count": null,
   "metadata": {},
   "outputs": [],
   "source": [
    "\n",
    "\n",
    "# Generate data\n",
    "n = 730\n",
    "A = 50\n",
    "center = 100\n",
    "phi = 30\n",
    "T = 2*np.pi/100\n",
    "t = np.arange(n)\n",
    "sin = A*np.sin(T*t-phi*T) + center\n",
    "sin[235:255] = 80\n",
    "\n",
    "# Set tree parameters\n",
    "num_trees = 40\n",
    "shingle_size = 4\n",
    "tree_size = 256\n",
    "\n",
    "# Create a forest of empty trees\n",
    "forest = []\n",
    "for _ in range(num_trees):\n",
    "    tree = rrcf.RCTree()\n",
    "    forest.append(tree)\n",
    "    \n",
    "# Use the \"shingle\" generator to create rolling window\n",
    "points = rrcf.shingle(sin, size=shingle_size)\n",
    "\n",
    "# Create a dict to store anomaly score of each point\n",
    "avg_codisp = {}\n",
    "\n",
    "# For each shingle...\n",
    "for index, point in enumerate(points):\n",
    "    # For each tree in the forest...\n",
    "    for tree in forest:\n",
    "        # If tree is above permitted size, drop the oldest point (FIFO)\n",
    "        if len(tree.leaves) > tree_size:\n",
    "            tree.forget_point(index - tree_size)\n",
    "        # Insert the new point into the tree\n",
    "        tree.insert_point(point, index=index)\n",
    "        # Compute codisp on the new point and take the average among all trees\n",
    "        if not index in avg_codisp:\n",
    "            avg_codisp[index] = 0\n",
    "        avg_codisp[index] += tree.codisp(index) / num_trees"
   ]
  },
  {
   "cell_type": "code",
   "execution_count": null,
   "metadata": {},
   "outputs": [],
   "source": [
    "print(avg_codisp)"
   ]
  },
  {
   "cell_type": "code",
   "execution_count": null,
   "metadata": {},
   "outputs": [],
   "source": [
    "import tensorflow as tf\n"
   ]
  },
  {
   "cell_type": "code",
   "execution_count": null,
   "metadata": {},
   "outputs": [],
   "source": [
    "from tensorflow.python.client import device_lib\n",
    "print(device_lib.list_local_devices())\n",
    "\n",
    "print(tf.config.list_physical_devices('GPU'))\n",
    "print(\"Num GPUs Available: \", len(tf.config.experimental.list_physical_devices('GPU')))\n"
   ]
  },
  {
   "cell_type": "code",
   "execution_count": null,
   "metadata": {},
   "outputs": [],
   "source": []
  }
 ],
 "metadata": {
  "kernelspec": {
   "display_name": "Python 3",
   "language": "python",
   "name": "python3"
  },
  "language_info": {
   "codemirror_mode": {
    "name": "ipython",
    "version": 3
   },
   "file_extension": ".py",
   "mimetype": "text/x-python",
   "name": "python",
   "nbconvert_exporter": "python",
   "pygments_lexer": "ipython3",
   "version": "3.8.2"
  }
 },
 "nbformat": 4,
 "nbformat_minor": 4
}
