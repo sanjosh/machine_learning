{
 "cells": [
  {
   "cell_type": "code",
   "execution_count": null,
   "metadata": {},
   "outputs": [],
   "source": [
    "import pandas as pd\n",
    "import csv"
   ]
  },
  {
   "cell_type": "code",
   "execution_count": null,
   "metadata": {},
   "outputs": [],
   "source": [
    "mdir = \"/home/sandeep/datasets/MaternaDataset/GWA-T-13_Materna-Workload-Traces/Materna-Trace-3/\"\n"
   ]
  },
  {
   "cell_type": "code",
   "execution_count": null,
   "metadata": {},
   "outputs": [],
   "source": [
    "def set_ts_index(df):\n",
    "    # convert the column (it's a string) to datetime type\n",
    "    datetime_series = pd.to_datetime(df['Timestamp'], format='%d.%m.%Y %H:%M:%S', errors='raise')\n",
    "\n",
    "    # create datetime index passing the datetime series\n",
    "    datetime_index = pd.DatetimeIndex(datetime_series)\n",
    "\n",
    "    # assignment is required for index to change (IMP)\n",
    "    df = df.set_index(datetime_index)\n",
    "    return df"
   ]
  },
  {
   "cell_type": "code",
   "execution_count": null,
   "metadata": {},
   "outputs": [],
   "source": [
    "import os\n",
    "\n",
    "dataframes = []\n",
    "from glob import glob\n",
    "filenames = glob(mdir + '*.csv')\n",
    "for idx, f in enumerate(filenames):\n",
    "    df = pd.read_csv(f, sep=';', quoting = csv.QUOTE_ALL)\n",
    "    df = set_ts_index(df)\n",
    "    df = df.rename(columns={\"Disk read throughput [KB/s]\": \"disk_read\", \n",
    "                       \"Disk write throughput [KB/s]\": \"disk_write\",\n",
    "                       \"Network received throughput [KB/s]\": \"net_read\",\n",
    "                       \"Network transmitted throughput [KB/s]\": \"net_write\",\n",
    "                       \"CPU usage [MHZ]\": \"cpu_usage\",\n",
    "                       \"Memory usage [KB]\": \"mem_usage\"\n",
    "                      })\n",
    "    df.dataframeName = os.path.basename(f)\n",
    "    dataframes.append(df)"
   ]
  },
  {
   "cell_type": "markdown",
   "metadata": {},
   "source": [
    "### new dataframe with one column from each VM"
   ]
  },
  {
   "cell_type": "code",
   "execution_count": null,
   "metadata": {},
   "outputs": [],
   "source": [
    "new_df = pd.DataFrame()\n",
    "\n",
    "for index in range(len(dataframes)):\n",
    "    diter = dataframes[index]\n",
    "    new_df[['net_write_' + diter.dataframeName]] = diter[['net_write']]\n",
    "    \n",
    "print(new_df.shape)\n"
   ]
  },
  {
   "cell_type": "code",
   "execution_count": null,
   "metadata": {},
   "outputs": [],
   "source": [
    "df = new_df"
   ]
  },
  {
   "cell_type": "code",
   "execution_count": null,
   "metadata": {},
   "outputs": [],
   "source": [
    "df.describe()\n"
   ]
  },
  {
   "cell_type": "code",
   "execution_count": null,
   "metadata": {},
   "outputs": [],
   "source": [
    "df.index"
   ]
  },
  {
   "cell_type": "code",
   "execution_count": null,
   "metadata": {},
   "outputs": [],
   "source": [
    "df.dtypes"
   ]
  },
  {
   "cell_type": "code",
   "execution_count": null,
   "metadata": {},
   "outputs": [],
   "source": [
    "df.head()"
   ]
  },
  {
   "cell_type": "markdown",
   "metadata": {},
   "source": [
    "### Inf columns"
   ]
  },
  {
   "cell_type": "code",
   "execution_count": null,
   "metadata": {},
   "outputs": [],
   "source": [
    "df.columns.to_series()[np.isinf(df).any()]\n"
   ]
  },
  {
   "cell_type": "code",
   "execution_count": null,
   "metadata": {},
   "outputs": [],
   "source": [
    "df.index[np.isinf(df).any(1)]\n"
   ]
  },
  {
   "cell_type": "code",
   "execution_count": null,
   "metadata": {},
   "outputs": [],
   "source": [
    "import numpy as np\n",
    "\n",
    "df.replace([np.inf, -np.inf], np.nan)\n"
   ]
  },
  {
   "cell_type": "markdown",
   "metadata": {},
   "source": [
    "### Null columns"
   ]
  },
  {
   "cell_type": "code",
   "execution_count": null,
   "metadata": {},
   "outputs": [],
   "source": [
    "df.isnull().values.any()"
   ]
  },
  {
   "cell_type": "code",
   "execution_count": null,
   "metadata": {},
   "outputs": [],
   "source": [
    "df[df.isnull().any(axis=1)] "
   ]
  },
  {
   "cell_type": "code",
   "execution_count": null,
   "metadata": {},
   "outputs": [],
   "source": [
    "df = df.interpolate( axis='columns')"
   ]
  },
  {
   "cell_type": "code",
   "execution_count": null,
   "metadata": {},
   "outputs": [],
   "source": [
    "df.dropna()\n",
    "df.shape"
   ]
  },
  {
   "cell_type": "markdown",
   "metadata": {},
   "source": [
    "### mean throughput over time per VM"
   ]
  },
  {
   "cell_type": "code",
   "execution_count": null,
   "metadata": {},
   "outputs": [],
   "source": [
    "ax = df.mean().plot(grid=False)\n"
   ]
  },
  {
   "cell_type": "code",
   "execution_count": null,
   "metadata": {},
   "outputs": [],
   "source": [
    "### mean throughput across VMs at any time"
   ]
  },
  {
   "cell_type": "code",
   "execution_count": null,
   "metadata": {},
   "outputs": [],
   "source": [
    "ax = df.T.mean().plot(grid=False)\n"
   ]
  },
  {
   "cell_type": "markdown",
   "metadata": {},
   "source": [
    "### multivariate PCA\n",
    "https://www.statsmodels.org/stable/examples/notebooks/generated/pca_fertility_factors.html"
   ]
  },
  {
   "cell_type": "code",
   "execution_count": null,
   "metadata": {},
   "outputs": [],
   "source": [
    "import statsmodels.api as sm\n",
    "from statsmodels.multivariate.pca import PCA\n",
    "\n",
    "pca_model = PCA(df, standardize=False, demean=True)\n"
   ]
  },
  {
   "cell_type": "code",
   "execution_count": null,
   "metadata": {},
   "outputs": [],
   "source": [
    "fig = pca_model.plot_scree(log_scale=False)\n"
   ]
  },
  {
   "cell_type": "code",
   "execution_count": null,
   "metadata": {},
   "outputs": [],
   "source": [
    "%matplotlib inline\n",
    "\n",
    "import matplotlib.pyplot as plt\n",
    "\n",
    "fig, ax = plt.subplots(figsize=(8, 4))\n",
    "lines = ax.plot(pca_model.factors.iloc[:,:3], lw=4, alpha=.6)\n",
    "ax.set_xticklabels(df.T.columns.values[::10])\n",
    "ax.set_xlim(0, 51)\n",
    "ax.set_xlabel(\"time\", size=17)\n",
    "fig.subplots_adjust(.1, .1, .85, .9)\n",
    "legend = fig.legend(lines, ['PC 1', 'PC 2', 'PC 3'], loc='center right')\n",
    "legend.draw_frame(False)"
   ]
  },
  {
   "cell_type": "code",
   "execution_count": null,
   "metadata": {},
   "outputs": [],
   "source": [
    "idx = pca_model.loadings.iloc[:,0].argsort()\n"
   ]
  },
  {
   "cell_type": "code",
   "execution_count": null,
   "metadata": {},
   "outputs": [],
   "source": [
    "def make_plot(labels):\n",
    "    fig, ax = plt.subplots(figsize=(9,5))\n",
    "    ax = df.loc[labels].T.plot(legend=False, grid=False, ax=ax)\n",
    "    df.T.mean().plot(ax=ax, grid=False, label='Mean')\n",
    "    ax.set_xlim(0, 51);\n",
    "    fig.subplots_adjust(.1, .1, .75, .9)\n",
    "    ax.set_xlabel(\"time\", size=17)\n",
    "    ax.set_ylabel(\"vm\", size=17);\n",
    "    legend = ax.legend(*ax.get_legend_handles_labels(), loc='center left', bbox_to_anchor=(1, .5))\n",
    "    legend.draw_frame(False)"
   ]
  },
  {
   "cell_type": "code",
   "execution_count": null,
   "metadata": {},
   "outputs": [],
   "source": [
    "labels = df.index[idx[-5:]]\n",
    "make_plot(labels)"
   ]
  },
  {
   "cell_type": "code",
   "execution_count": null,
   "metadata": {},
   "outputs": [],
   "source": [
    "idx = pca_model.loadings.iloc[:,1].argsort()\n",
    "make_plot(df.index[idx[-5:]])"
   ]
  },
  {
   "cell_type": "code",
   "execution_count": null,
   "metadata": {},
   "outputs": [],
   "source": [
    "make_plot(df.index[idx[:5]])\n"
   ]
  },
  {
   "cell_type": "code",
   "execution_count": null,
   "metadata": {},
   "outputs": [],
   "source": [
    "fig, ax = plt.subplots()\n",
    "pca_model.loadings.plot.scatter(x='comp_00',y='comp_01', ax=ax)\n",
    "ax.set_xlabel(\"PC 1\", size=17)\n",
    "ax.set_ylabel(\"PC 2\", size=17)\n",
    "df.index[pca_model.loadings.iloc[:, 1] > .2].values"
   ]
  },
  {
   "cell_type": "code",
   "execution_count": null,
   "metadata": {},
   "outputs": [],
   "source": []
  }
 ],
 "metadata": {
  "kernelspec": {
   "display_name": "Python 3",
   "language": "python",
   "name": "python3"
  },
  "language_info": {
   "codemirror_mode": {
    "name": "ipython",
    "version": 3
   },
   "file_extension": ".py",
   "mimetype": "text/x-python",
   "name": "python",
   "nbconvert_exporter": "python",
   "pygments_lexer": "ipython3",
   "version": "3.8.2"
  }
 },
 "nbformat": 4,
 "nbformat_minor": 4
}
