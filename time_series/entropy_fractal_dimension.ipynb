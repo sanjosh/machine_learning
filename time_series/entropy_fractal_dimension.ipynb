{
 "cells": [
  {
   "cell_type": "markdown",
   "metadata": {},
   "source": [
    "### measure the complexity of one-dimensional time-series.\n",
    "\n",
    "\n",
    "entropy https://raphaelvallat.com/entropy/build/html/index.html\n",
    "    \n",
    "MNE-features: https://github.com/mne-tools/mne-features\n",
    "\n",
    "pyEntropy: https://github.com/nikdon/pyEntropy\n",
    "\n",
    "pyrem: https://github.com/gilestrolab/pyrem\n",
    "\n",
    "nolds: https://github.com/CSchoel/nolds\n",
    "\n",
    "neurokit https://neurokit.readthedocs.io/en/latest/_modules/neurokit/signal/complexity.html\n",
    "    "
   ]
  },
  {
   "cell_type": "markdown",
   "metadata": {},
   "source": [
    "### approximate entropy \n",
    "\n",
    "https://gist.github.com/DustinAlandzes/a835909ffd15b9927820d175a48dee41\n",
    "\n",
    "https://en.wikipedia.org/wiki/Approximate_entropy\n",
    "\n",
    "quantify the amount of regularity"
   ]
  },
  {
   "cell_type": "code",
   "execution_count": 4,
   "metadata": {},
   "outputs": [],
   "source": [
    "import numpy as np\n",
    "\n",
    "def ApEn_new(U, m, r):\n",
    "    U = np.array(U)\n",
    "    N = U.shape[0]\n",
    "            \n",
    "    def _phi(m):\n",
    "        z = N - m + 1.0\n",
    "        x = np.array([U[i:i+m] for i in range(int(z))])\n",
    "        X = np.repeat(x[:, np.newaxis], 1, axis=2)\n",
    "        C = np.sum(np.absolute(x - X).max(axis=2) <= r, axis=0) / z\n",
    "        return np.log(C).sum() / z\n",
    "    \n",
    "    return abs(_phi(m + 1) - _phi(m))"
   ]
  },
  {
   "cell_type": "code",
   "execution_count": 19,
   "metadata": {},
   "outputs": [
    {
     "name": "stdout",
     "output_type": "stream",
     "text": [
      "ApEn_new(a): 1.099654110658932e-05\n",
      "ApEn_new(a): 0.7053275708356272\n"
     ]
    }
   ],
   "source": [
    "a = [85, 80, 89] * 17\n",
    "print('ApEn_new(a):', ApEn_new(a, 2, 3))\n",
    "\n",
    "a = np.random.choice([85, 80, 89], size=17 * 3)\n",
    "print('ApEn_new(a):', ApEn_new(a, 2, 3))\n"
   ]
  },
  {
   "cell_type": "code",
   "execution_count": 6,
   "metadata": {},
   "outputs": [
    {
     "name": "stdout",
     "output_type": "stream",
     "text": [
      "0.8358516070911506\n"
     ]
    }
   ],
   "source": [
    "from entropy import *\n",
    "\n",
    "print(app_entropy(a, order=2, metric='chebyshev'))              # Approximate entropy"
   ]
  },
  {
   "cell_type": "markdown",
   "metadata": {},
   "source": [
    "### sample entropy\n",
    "\n",
    "https://en.wikipedia.org/wiki/Sample_entropy"
   ]
  },
  {
   "cell_type": "code",
   "execution_count": 7,
   "metadata": {},
   "outputs": [
    {
     "name": "stdout",
     "output_type": "stream",
     "text": [
      "1.0849134443099477\n"
     ]
    }
   ],
   "source": [
    "print(sample_entropy(a, order=2, metric='chebyshev'))           # Sample entropy\n"
   ]
  },
  {
   "cell_type": "markdown",
   "metadata": {},
   "source": [
    "### spectral entropy"
   ]
  },
  {
   "cell_type": "code",
   "execution_count": 21,
   "metadata": {},
   "outputs": [
    {
     "name": "stdout",
     "output_type": "stream",
     "text": [
      "0.8498630025245953\n"
     ]
    }
   ],
   "source": [
    "print(spectral_entropy(a, 51, method='welch', normalize=True)) # Spectral entropy\n"
   ]
  },
  {
   "cell_type": "markdown",
   "metadata": {},
   "source": [
    "### fractal dimension\n",
    "\n",
    "petrosian = relaed to length of series, number of sign changes\n",
    "\n",
    "https://oeis.org/A000120\n",
    "\n",
    "https://oeis.org/selfsimilar.html"
   ]
  },
  {
   "cell_type": "code",
   "execution_count": 9,
   "metadata": {},
   "outputs": [
    {
     "name": "stdout",
     "output_type": "stream",
     "text": [
      "1.0253188646981606\n"
     ]
    }
   ],
   "source": [
    "print(petrosian_fd(a))            # Petrosian fractal dimension\n"
   ]
  },
  {
   "cell_type": "code",
   "execution_count": 16,
   "metadata": {},
   "outputs": [
    {
     "name": "stdout",
     "output_type": "stream",
     "text": [
      "1.0389215814209551\n"
     ]
    }
   ],
   "source": [
    "\n",
    "t = [0, 1, 1, 2, 1, 2, 2, 3, 1, 2, 2, 3, 2, 3, 3, 4, 1, 2, 2, 3, 2, 3, 3, 4, 2, 3, 3, 4, 3, 4, 4, 5, 1, 2, 2, 3, 2, 3, 3, 4, 2, 3, 3, 4, 3, 4, 4, 5, 2, 3, 3, 4, 3, 4, 4, 5, 3, 4, 4, 5, 4, 5, 5, 6, 1, 2, 2, 3, 2, 3, 3, 4, 2, 3, 3, 4, 3, 4, 4, 5, 2, 3, 3, 4, 3, 4, 4, 5, 3, 4, 4, 5, 4, 5, 5, 6, 2, 3, 3, 4, 3, 4, 4, 5, 3]\n",
    "\n",
    "print(petrosian_fd(t))            # Petrosian fractal dimension\n"
   ]
  },
  {
   "cell_type": "code",
   "execution_count": 14,
   "metadata": {},
   "outputs": [
    {
     "name": "stdout",
     "output_type": "stream",
     "text": [
      "1.0\n"
     ]
    }
   ],
   "source": [
    "t = [8] * 120\n",
    "print(petrosian_fd(t))            # Petrosian fractal dimension\n"
   ]
  },
  {
   "cell_type": "code",
   "execution_count": 12,
   "metadata": {},
   "outputs": [
    {
     "name": "stdout",
     "output_type": "stream",
     "text": [
      "1.0603920477561957\n"
     ]
    }
   ],
   "source": [
    "t = [85, 80, 89] * 17\n",
    "print(petrosian_fd(t))            # Petrosian fractal dimension\n"
   ]
  },
  {
   "cell_type": "code",
   "execution_count": 18,
   "metadata": {},
   "outputs": [
    {
     "name": "stdout",
     "output_type": "stream",
     "text": [
      "2.5504199699109287\n",
      "1.945739020037968\n",
      "1.112514622952105\n"
     ]
    }
   ],
   "source": [
    "t = [0, 1, 1, 2, 1, 2, 2, 3, 1, 2, 2, 3, 2, 3, 3, 4, 1, 2, 2, 3, 2, 3, 3, 4, 2, 3, 3, 4, 3, 4, 4, 5, 1, 2, 2, 3, 2, 3, 3, 4, 2, 3, 3, 4, 3, 4, 4, 5, 2, 3, 3, 4, 3, 4, 4, 5, 3, 4, 4, 5, 4, 5, 5, 6, 1, 2, 2, 3, 2, 3, 3, 4, 2, 3, 3, 4, 3, 4, 4, 5, 2, 3, 3, 4, 3, 4, 4, 5, 3, 4, 4, 5, 4, 5, 5, 6, 2, 3, 3, 4, 3, 4, 4, 5, 3]\n",
    "\n",
    "print(katz_fd(x))                 # Katz fractal dimension\n",
    "print(higuchi_fd(x, kmax=10))     # Higuchi fractal dimension\n",
    "print(detrended_fluctuation(x))   # Detrended fluctuation analysis"
   ]
  },
  {
   "cell_type": "code",
   "execution_count": null,
   "metadata": {},
   "outputs": [],
   "source": []
  }
 ],
 "metadata": {
  "kernelspec": {
   "display_name": "Python 3",
   "language": "python",
   "name": "python3"
  },
  "language_info": {
   "codemirror_mode": {
    "name": "ipython",
    "version": 3
   },
   "file_extension": ".py",
   "mimetype": "text/x-python",
   "name": "python",
   "nbconvert_exporter": "python",
   "pygments_lexer": "ipython3",
   "version": "3.8.5"
  }
 },
 "nbformat": 4,
 "nbformat_minor": 4
}
