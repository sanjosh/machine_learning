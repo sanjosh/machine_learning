{
 "cells": [
  {
   "cell_type": "code",
   "execution_count": 1,
   "metadata": {},
   "outputs": [],
   "source": [
    "import pandas as pd"
   ]
  },
  {
   "cell_type": "markdown",
   "metadata": {},
   "source": [
    "### Cholesky decomposition\n",
    "\n",
    "https://github.com/guillaumeguy/notebooks/blob/main/Correlated_notebooks.ipynb\n"
   ]
  },
  {
   "cell_type": "code",
   "execution_count": 44,
   "metadata": {},
   "outputs": [
    {
     "name": "stdout",
     "output_type": "stream",
     "text": [
      "(1000, 10)\n",
      "correlation:\n",
      "\n"
     ]
    },
    {
     "data": {
      "text/plain": [
       "array([[1.  , 0.5 , 0.5 , 0.49, 0.52, 0.51, 0.51, 0.5 , 0.51, 0.51],\n",
       "       [0.5 , 1.  , 0.51, 0.48, 0.5 , 0.5 , 0.53, 0.5 , 0.53, 0.49],\n",
       "       [0.5 , 0.51, 1.  , 0.5 , 0.48, 0.49, 0.53, 0.49, 0.5 , 0.5 ],\n",
       "       [0.49, 0.48, 0.5 , 1.  , 0.47, 0.47, 0.49, 0.53, 0.49, 0.49],\n",
       "       [0.52, 0.5 , 0.48, 0.47, 1.  , 0.46, 0.52, 0.5 , 0.52, 0.52],\n",
       "       [0.51, 0.5 , 0.49, 0.47, 0.46, 1.  , 0.52, 0.52, 0.5 , 0.5 ],\n",
       "       [0.51, 0.53, 0.53, 0.49, 0.52, 0.52, 1.  , 0.51, 0.49, 0.51],\n",
       "       [0.5 , 0.5 , 0.49, 0.53, 0.5 , 0.52, 0.51, 1.  , 0.51, 0.53],\n",
       "       [0.51, 0.53, 0.5 , 0.49, 0.52, 0.5 , 0.49, 0.51, 1.  , 0.52],\n",
       "       [0.51, 0.49, 0.5 , 0.49, 0.52, 0.5 , 0.51, 0.53, 0.52, 1.  ]])"
      ]
     },
     "execution_count": 44,
     "metadata": {},
     "output_type": "execute_result"
    }
   ],
   "source": [
    "_N = 1000 # the desired sample size\n",
    "_corr = 0.5 # the desired correlation\n",
    "_N_DIST = 10\n",
    "\n",
    "# generate random normal distribution\n",
    "acc = []\n",
    "for i in range(_N_DIST):\n",
    "    acc.append(np.reshape(np.random.normal(0,1,_N),(_N,-1)))\n",
    "    \n",
    "# Compute \n",
    "all_norm = np.concatenate(acc,axis=1)\n",
    "\n",
    "print(all_norm.shape)\n",
    "\n",
    "def generate_cov(dim):\n",
    "    acc  = []\n",
    "    for i in range(dim):\n",
    "        row = np.ones((1,dim)) * _corr\n",
    "        row[0][i] = 1\n",
    "        acc.append(row)\n",
    "    return np.concatenate(acc,axis=0)\n",
    "\n",
    "cov = generate_cov(_N_DIST)\n",
    "C = np.linalg.cholesky(cov)\n",
    "\n",
    "Y = np.transpose(0 + np.dot(C, np.transpose(all_norm)))\n",
    "\n",
    "print(\"correlation:\\n\")\n",
    "\n",
    "np.round(np.corrcoef(Y,rowvar=False),2)"
   ]
  },
  {
   "cell_type": "markdown",
   "metadata": {},
   "source": [
    "### generate correlated columns\n",
    "\n",
    "https://stackoverflow.com/questions/42902938/create-correlated-pandas-series"
   ]
  },
  {
   "cell_type": "code",
   "execution_count": 36,
   "metadata": {},
   "outputs": [],
   "source": [
    "from random import randint\n",
    "from scipy.stats import pearsonr\n",
    "\n",
    "def fun(x):\n",
    "    if np.std(x) >= 5:\n",
    "        return np.std(x)\n",
    "    return abs(0.8 - pearsonr(data['A'], x)[0])\n",
    "\n"
   ]
  },
  {
   "cell_type": "code",
   "execution_count": 42,
   "metadata": {},
   "outputs": [
    {
     "name": "stdout",
     "output_type": "stream",
     "text": [
      "          A          B         C\n",
      "A  0.666667   3.769366  0.457544\n",
      "B  3.769366  33.300287  1.263944\n",
      "C  0.457544   1.263944  0.490655 A    10.000000\n",
      "B    15.983210\n",
      "C     0.486295\n",
      "dtype: float64\n",
      "    A          B         C\n",
      "0  10  12.739099  1.049307\n",
      "1  11  20.806738  1.118646\n",
      "2  10  20.888363  0.031212\n",
      "3   9   9.498639 -0.253984\n"
     ]
    }
   ],
   "source": [
    "import pandas as pd\n",
    "import numpy as np\n",
    "from scipy.optimize import minimize\n",
    "\n",
    "data = pd.DataFrame({'A': [10, 11, 10, 9]})\n",
    "\n",
    "data['B'] = minimize(fun, [randint(5, 25) for _ in range(4)], method = 'SLSQP', bounds = [(5, 25) for _ in range(4)]).x\n",
    "\n",
    "data['C'] = minimize(lambda x: abs(0.8 - pearsonr(data['A'], x)[0]), np.random.rand(len(data['A']))).x\n",
    "\n",
    "\n",
    "print(data.cov(), data.mean())\n",
    "print(data)"
   ]
  },
  {
   "cell_type": "markdown",
   "metadata": {},
   "source": [
    "### from raw data\n",
    "\n",
    "Y = mean + C.Z\n",
    "where \n",
    "Z = vector of uncorrelated Gaussian random variables, \n",
    "C.C_transpose = covariance matrix; To obtain C You may use Cholesky decomposition.\n",
    "\n",
    "\n",
    "https://stats.stackexchange.com/questions/255288/how-to-generate-time-series-with-correlation-and-autocorrelation/258140\n",
    "\n",
    "https://math.stackexchange.com/questions/446093/generate-correlated-normal-random-variables\n",
    "\n",
    "https://stackoverflow.com/questions/15180515/numpy-random-multivariate-normalmean-cov-size?rq=1"
   ]
  },
  {
   "cell_type": "markdown",
   "metadata": {},
   "source": [
    "### from existing dataframe\n",
    "\n",
    "https://stackoverflow.com/questions/58440799/simulate-time-series-satisfying-a-covariance-matrix\n",
    "\n",
    "https://stats.stackexchange.com/questions/15257/literature-on-generating-similar-synthetic-time-series-from-observed-time-seri"
   ]
  },
  {
   "cell_type": "code",
   "execution_count": 31,
   "metadata": {},
   "outputs": [],
   "source": [
    "import numpy as np\n",
    "\n",
    "def get_new_series_with_covariance(df):\n",
    "    mean = df.mean()  \n",
    "    cov = df.cov().T\n",
    "    dataNew = pd.DataFrame(data=np.random.multivariate_normal(mean, cov, 10), columns=df.columns)\n",
    "    return dataNew"
   ]
  },
  {
   "cell_type": "code",
   "execution_count": 32,
   "metadata": {},
   "outputs": [
    {
     "name": "stdout",
     "output_type": "stream",
     "text": [
      "A    45.8\n",
      "B    38.5\n",
      "C    69.5\n",
      "D    56.7\n",
      "dtype: float64\n",
      "            A           B           C           D\n",
      "A  772.622222  228.333333 -373.777778  291.155556\n",
      "B  228.333333  516.944444 -293.388889   34.277778\n",
      "C -373.777778 -293.388889  775.166667 -468.500000\n",
      "D  291.155556   34.277778 -468.500000  986.011111\n"
     ]
    },
    {
     "data": {
      "text/html": [
       "<div>\n",
       "<style scoped>\n",
       "    .dataframe tbody tr th:only-of-type {\n",
       "        vertical-align: middle;\n",
       "    }\n",
       "\n",
       "    .dataframe tbody tr th {\n",
       "        vertical-align: top;\n",
       "    }\n",
       "\n",
       "    .dataframe thead th {\n",
       "        text-align: right;\n",
       "    }\n",
       "</style>\n",
       "<table border=\"1\" class=\"dataframe\">\n",
       "  <thead>\n",
       "    <tr style=\"text-align: right;\">\n",
       "      <th></th>\n",
       "      <th>A</th>\n",
       "      <th>B</th>\n",
       "      <th>C</th>\n",
       "      <th>D</th>\n",
       "    </tr>\n",
       "  </thead>\n",
       "  <tbody>\n",
       "    <tr>\n",
       "      <th>0</th>\n",
       "      <td>50</td>\n",
       "      <td>24</td>\n",
       "      <td>87</td>\n",
       "      <td>96</td>\n",
       "    </tr>\n",
       "    <tr>\n",
       "      <th>1</th>\n",
       "      <td>53</td>\n",
       "      <td>69</td>\n",
       "      <td>69</td>\n",
       "      <td>22</td>\n",
       "    </tr>\n",
       "    <tr>\n",
       "      <th>2</th>\n",
       "      <td>8</td>\n",
       "      <td>15</td>\n",
       "      <td>97</td>\n",
       "      <td>39</td>\n",
       "    </tr>\n",
       "    <tr>\n",
       "      <th>3</th>\n",
       "      <td>27</td>\n",
       "      <td>41</td>\n",
       "      <td>63</td>\n",
       "      <td>23</td>\n",
       "    </tr>\n",
       "    <tr>\n",
       "      <th>4</th>\n",
       "      <td>15</td>\n",
       "      <td>40</td>\n",
       "      <td>53</td>\n",
       "      <td>92</td>\n",
       "    </tr>\n",
       "    <tr>\n",
       "      <th>5</th>\n",
       "      <td>69</td>\n",
       "      <td>60</td>\n",
       "      <td>91</td>\n",
       "      <td>40</td>\n",
       "    </tr>\n",
       "    <tr>\n",
       "      <th>6</th>\n",
       "      <td>89</td>\n",
       "      <td>18</td>\n",
       "      <td>35</td>\n",
       "      <td>74</td>\n",
       "    </tr>\n",
       "    <tr>\n",
       "      <th>7</th>\n",
       "      <td>59</td>\n",
       "      <td>26</td>\n",
       "      <td>86</td>\n",
       "      <td>60</td>\n",
       "    </tr>\n",
       "    <tr>\n",
       "      <th>8</th>\n",
       "      <td>16</td>\n",
       "      <td>16</td>\n",
       "      <td>98</td>\n",
       "      <td>23</td>\n",
       "    </tr>\n",
       "    <tr>\n",
       "      <th>9</th>\n",
       "      <td>72</td>\n",
       "      <td>76</td>\n",
       "      <td>16</td>\n",
       "      <td>98</td>\n",
       "    </tr>\n",
       "  </tbody>\n",
       "</table>\n",
       "</div>"
      ],
      "text/plain": [
       "    A   B   C   D\n",
       "0  50  24  87  96\n",
       "1  53  69  69  22\n",
       "2   8  15  97  39\n",
       "3  27  41  63  23\n",
       "4  15  40  53  92\n",
       "5  69  60  91  40\n",
       "6  89  18  35  74\n",
       "7  59  26  86  60\n",
       "8  16  16  98  23\n",
       "9  72  76  16  98"
      ]
     },
     "execution_count": 32,
     "metadata": {},
     "output_type": "execute_result"
    }
   ],
   "source": [
    "df = pd.DataFrame(np.random.randint(0, 100, size=(10, 4)), columns=list('ABCD'))\n",
    "print(df.mean())\n",
    "print(df.cov())\n",
    "df"
   ]
  },
  {
   "cell_type": "code",
   "execution_count": 33,
   "metadata": {},
   "outputs": [
    {
     "name": "stdout",
     "output_type": "stream",
     "text": [
      "A    42.155717\n",
      "B    32.527531\n",
      "C    64.950746\n",
      "D    55.857507\n",
      "dtype: float64\n",
      "            A            B           C           D\n",
      "A  618.688735   680.142938 -127.121861 -219.210740\n",
      "B  680.142938  1010.345459  -92.851034 -451.362837\n",
      "C -127.121861   -92.851034  526.122874 -475.863472\n",
      "D -219.210740  -451.362837 -475.863472  815.837933\n"
     ]
    },
    {
     "data": {
      "text/html": [
       "<div>\n",
       "<style scoped>\n",
       "    .dataframe tbody tr th:only-of-type {\n",
       "        vertical-align: middle;\n",
       "    }\n",
       "\n",
       "    .dataframe tbody tr th {\n",
       "        vertical-align: top;\n",
       "    }\n",
       "\n",
       "    .dataframe thead th {\n",
       "        text-align: right;\n",
       "    }\n",
       "</style>\n",
       "<table border=\"1\" class=\"dataframe\">\n",
       "  <thead>\n",
       "    <tr style=\"text-align: right;\">\n",
       "      <th></th>\n",
       "      <th>A</th>\n",
       "      <th>B</th>\n",
       "      <th>C</th>\n",
       "      <th>D</th>\n",
       "    </tr>\n",
       "  </thead>\n",
       "  <tbody>\n",
       "    <tr>\n",
       "      <th>0</th>\n",
       "      <td>68.472747</td>\n",
       "      <td>57.156896</td>\n",
       "      <td>41.869139</td>\n",
       "      <td>72.967163</td>\n",
       "    </tr>\n",
       "    <tr>\n",
       "      <th>1</th>\n",
       "      <td>42.178004</td>\n",
       "      <td>20.579235</td>\n",
       "      <td>75.259331</td>\n",
       "      <td>71.317209</td>\n",
       "    </tr>\n",
       "    <tr>\n",
       "      <th>2</th>\n",
       "      <td>13.908759</td>\n",
       "      <td>-18.732136</td>\n",
       "      <td>41.579845</td>\n",
       "      <td>108.666759</td>\n",
       "    </tr>\n",
       "    <tr>\n",
       "      <th>3</th>\n",
       "      <td>73.041362</td>\n",
       "      <td>63.720083</td>\n",
       "      <td>82.211976</td>\n",
       "      <td>9.386664</td>\n",
       "    </tr>\n",
       "    <tr>\n",
       "      <th>4</th>\n",
       "      <td>31.808060</td>\n",
       "      <td>37.732341</td>\n",
       "      <td>80.553851</td>\n",
       "      <td>31.302106</td>\n",
       "    </tr>\n",
       "    <tr>\n",
       "      <th>5</th>\n",
       "      <td>18.510974</td>\n",
       "      <td>30.872672</td>\n",
       "      <td>92.667076</td>\n",
       "      <td>31.536402</td>\n",
       "    </tr>\n",
       "    <tr>\n",
       "      <th>6</th>\n",
       "      <td>30.033065</td>\n",
       "      <td>38.778228</td>\n",
       "      <td>32.658314</td>\n",
       "      <td>76.463521</td>\n",
       "    </tr>\n",
       "    <tr>\n",
       "      <th>7</th>\n",
       "      <td>17.287799</td>\n",
       "      <td>-17.913377</td>\n",
       "      <td>76.931742</td>\n",
       "      <td>59.603238</td>\n",
       "    </tr>\n",
       "    <tr>\n",
       "      <th>8</th>\n",
       "      <td>43.032722</td>\n",
       "      <td>34.441312</td>\n",
       "      <td>85.750978</td>\n",
       "      <td>40.732383</td>\n",
       "    </tr>\n",
       "    <tr>\n",
       "      <th>9</th>\n",
       "      <td>83.283679</td>\n",
       "      <td>78.640061</td>\n",
       "      <td>40.025209</td>\n",
       "      <td>56.599627</td>\n",
       "    </tr>\n",
       "  </tbody>\n",
       "</table>\n",
       "</div>"
      ],
      "text/plain": [
       "           A          B          C           D\n",
       "0  68.472747  57.156896  41.869139   72.967163\n",
       "1  42.178004  20.579235  75.259331   71.317209\n",
       "2  13.908759 -18.732136  41.579845  108.666759\n",
       "3  73.041362  63.720083  82.211976    9.386664\n",
       "4  31.808060  37.732341  80.553851   31.302106\n",
       "5  18.510974  30.872672  92.667076   31.536402\n",
       "6  30.033065  38.778228  32.658314   76.463521\n",
       "7  17.287799 -17.913377  76.931742   59.603238\n",
       "8  43.032722  34.441312  85.750978   40.732383\n",
       "9  83.283679  78.640061  40.025209   56.599627"
      ]
     },
     "execution_count": 33,
     "metadata": {},
     "output_type": "execute_result"
    }
   ],
   "source": [
    "synth_df = get_new_series_with_covariance(df)\n",
    "print(synth_df.mean())\n",
    "print(synth_df.cov())\n",
    "synth_df"
   ]
  },
  {
   "cell_type": "code",
   "execution_count": null,
   "metadata": {},
   "outputs": [],
   "source": []
  }
 ],
 "metadata": {
  "kernelspec": {
   "display_name": "Python 3",
   "language": "python",
   "name": "python3"
  },
  "language_info": {
   "codemirror_mode": {
    "name": "ipython",
    "version": 3
   },
   "file_extension": ".py",
   "mimetype": "text/x-python",
   "name": "python",
   "nbconvert_exporter": "python",
   "pygments_lexer": "ipython3",
   "version": "3.8.5"
  }
 },
 "nbformat": 4,
 "nbformat_minor": 4
}
