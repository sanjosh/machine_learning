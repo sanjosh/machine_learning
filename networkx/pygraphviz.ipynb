{
 "cells": [
  {
   "cell_type": "markdown",
   "metadata": {},
   "source": [
    "### doc\n",
    "\n",
    "shape=plaintext, box, circle\n",
    "\n",
    "layout = dot, neato, sfdp, fdp\n",
    "\n",
    "http://www.graphviz.org/doc/info/attrs.html#d:model\n",
    "\n",
    "https://stackoverflow.com/questions/2649781/graphviz-dot-arrange-nodes-in-circles-layout-too-compact"
   ]
  },
  {
   "cell_type": "code",
   "execution_count": null,
   "metadata": {},
   "outputs": [],
   "source": [
    "class keydefaultdict(defaultdict):\n",
    "    def __missing__(self, key):\n",
    "        if self.default_factory is None:\n",
    "            raise KeyError( key )\n",
    "        else:\n",
    "            ret = self[key] = self.default_factory(key)\n",
    "            return ret"
   ]
  },
  {
   "cell_type": "code",
   "execution_count": null,
   "metadata": {},
   "outputs": [],
   "source": [
    "from collections import defaultdict \n",
    "\n",
    "class Team():\n",
    "    \n",
    "    def __init__(self, name):\n",
    "        self.name = name\n",
    "        self.employee_set = set()\n",
    "        \n",
    "    def add(self, e_name):\n",
    "        self.employee_set.add(e_name)\n",
    "        \n",
    "class Employee():\n",
    "    \n",
    "    def __init__(self, name):\n",
    "        self.name = name\n",
    "        self.contacts = set()\n",
    "        \n",
    "    def add(self, contact):\n",
    "        assert self.name != contact\n",
    "        self.contacts.add(contact)\n",
    "\n",
    "class Company():\n",
    "    \n",
    "    def __init__(self):\n",
    "        self.employee_set = keydefaultdict(Employee)\n",
    "        self.team_dict = keydefaultdict(Team)\n",
    "        \n",
    "    def add_employee_and_team(self, send, recv, g_name=None):\n",
    "        self.employee_set[send].add(recv)\n",
    "        self.employee_set[recv].add(send)\n",
    "        if g_name:\n",
    "            g = self.team_dict[g_name]\n",
    "            g.add(send)\n",
    "            g.add(recv)"
   ]
  },
  {
   "cell_type": "code",
   "execution_count": null,
   "metadata": {},
   "outputs": [],
   "source": [
    "s1 = Company()"
   ]
  },
  {
   "cell_type": "code",
   "execution_count": null,
   "metadata": {},
   "outputs": [],
   "source": [
    "employees = list('person' + str(i) for i in range(10))\n",
    "teams = list('group' + str(i) for i in range(2))\n",
    "\n",
    "import random\n",
    "\n",
    "for i in range(30):\n",
    "    send = random.randint(0, len(employees) - 1)\n",
    "    recv = random.randint(0, len(employees) - 1)\n",
    "    if send == recv:\n",
    "        continue\n",
    "    team_num = random.randint(0, len(teams) + len(teams))\n",
    "    team_name = employees[team_num] if team_num < len(teams) else None \n",
    "    s1.add_employee_and_team(employees[send], employees[recv], team_name)"
   ]
  },
  {
   "cell_type": "code",
   "execution_count": null,
   "metadata": {},
   "outputs": [],
   "source": [
    "import pygraphviz"
   ]
  },
  {
   "cell_type": "code",
   "execution_count": null,
   "metadata": {},
   "outputs": [],
   "source": [
    "G = pgv.AGraph()"
   ]
  },
  {
   "cell_type": "code",
   "execution_count": null,
   "metadata": {},
   "outputs": [],
   "source": [
    "for e in s1.employee_set:\n",
    "    G.add_node(e)\n",
    "    for contact in s1.employee_set[e].contacts:\n",
    "        G.add_edge(e, contact)"
   ]
  },
  {
   "cell_type": "code",
   "execution_count": null,
   "metadata": {},
   "outputs": [],
   "source": [
    "for g in s1.team_dict:\n",
    "    G.add_node(g,  color=\"red\", shape='plaintext')\n",
    "    for e in s1.team_dict[g].employee_set:\n",
    "        G.add_edge(g, e, color='blue')"
   ]
  },
  {
   "cell_type": "code",
   "execution_count": null,
   "metadata": {},
   "outputs": [],
   "source": [
    "\n",
    "G.layout(prog=\"neato\")\n",
    "\n",
    "G.draw(\"./company.png\")"
   ]
  },
  {
   "cell_type": "code",
   "execution_count": null,
   "metadata": {},
   "outputs": [],
   "source": [
    "from IPython.display import Image\n",
    "Image(filename='./file.png') "
   ]
  },
  {
   "cell_type": "code",
   "execution_count": null,
   "metadata": {},
   "outputs": [],
   "source": []
  }
 ],
 "metadata": {
  "kernelspec": {
   "display_name": "Python 3",
   "language": "python",
   "name": "python3"
  },
  "language_info": {
   "codemirror_mode": {
    "name": "ipython",
    "version": 3
   },
   "file_extension": ".py",
   "mimetype": "text/x-python",
   "name": "python",
   "nbconvert_exporter": "python",
   "pygments_lexer": "ipython3",
   "version": "3.8.3"
  }
 },
 "nbformat": 4,
 "nbformat_minor": 5
}
