{
 "cells": [
  {
   "cell_type": "code",
   "execution_count": 1,
   "id": "rubber-compatibility",
   "metadata": {},
   "outputs": [],
   "source": [
    "import sklearn\n",
    "from scipy.stats import expon\n",
    "import numpy as np"
   ]
  },
  {
   "cell_type": "code",
   "execution_count": 2,
   "id": "agricultural-developer",
   "metadata": {},
   "outputs": [],
   "source": [
    "numbers = [2, 5, 19, 23, 45]\n",
    "\n",
    "x_dict = {}\n",
    "for n in numbers:\n",
    "    x = np.random.exponential(scale=1/float(n), size=5)\n",
    "    x_dict[n] = x"
   ]
  },
  {
   "cell_type": "code",
   "execution_count": 3,
   "id": "pharmaceutical-flash",
   "metadata": {},
   "outputs": [
    {
     "name": "stdout",
     "output_type": "stream",
     "text": [
      "{2: array([0.59131963, 0.77332989, 1.78124178, 0.10367823, 0.57722041]), 5: array([0.08038995, 0.11504215, 0.21649637, 0.13703088, 0.02478495]), 19: array([0.03561405, 0.01263573, 0.060029  , 0.00851031, 0.01823898]), 23: array([0.03968369, 0.0419704 , 0.01173688, 0.05845504, 0.01594802]), 45: array([0.01385467, 0.03617377, 0.03246308, 0.00957813, 0.00705041])}\n"
     ]
    }
   ],
   "source": [
    "print(x_dict)"
   ]
  },
  {
   "cell_type": "code",
   "execution_count": 4,
   "id": "everyday-silly",
   "metadata": {},
   "outputs": [
    {
     "name": "stdout",
     "output_type": "stream",
     "text": [
      "94\n"
     ]
    }
   ],
   "source": [
    "sum_lambda = sum(numbers)\n",
    "print(sum_lambda)"
   ]
  },
  {
   "cell_type": "code",
   "execution_count": 5,
   "id": "naval-marking",
   "metadata": {},
   "outputs": [],
   "source": [
    "sum_x = np.random.exponential(scale=1/float(sum_lambda), size=5)"
   ]
  },
  {
   "cell_type": "code",
   "execution_count": 6,
   "id": "charitable-madrid",
   "metadata": {},
   "outputs": [
    {
     "name": "stdout",
     "output_type": "stream",
     "text": [
      "[0.01590495 0.00054456 0.00117911 0.06415715 0.00118536]\n"
     ]
    }
   ],
   "source": [
    "print(sum_x)"
   ]
  },
  {
   "cell_type": "code",
   "execution_count": null,
   "id": "collectible-motel",
   "metadata": {},
   "outputs": [],
   "source": []
  }
 ],
 "metadata": {
  "kernelspec": {
   "display_name": "Python 3",
   "language": "python",
   "name": "python3"
  },
  "language_info": {
   "codemirror_mode": {
    "name": "ipython",
    "version": 3
   },
   "file_extension": ".py",
   "mimetype": "text/x-python",
   "name": "python",
   "nbconvert_exporter": "python",
   "pygments_lexer": "ipython3",
   "version": "3.8.3"
  }
 },
 "nbformat": 4,
 "nbformat_minor": 5
}
