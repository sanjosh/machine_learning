{
 "cells": [
  {
   "cell_type": "markdown",
   "metadata": {},
   "source": [
    "https://stats.stackexchange.com/questions/155028/how-to-systematically-remove-collinear-variables-pandas-columns-in-python\n",
    "\n",
    "https://www.analyticsvidhya.com/blog/2020/03/what-is-multicollinearity/\n",
    "\n",
    "VIF starts at 1 and has no upper limit\n",
    "VIF = 1, no correlation between the independent variable and the other variables\n",
    "VIF exceeding 5 or 10 indicates high multicollinearity between this independent variable and the others"
   ]
  },
  {
   "cell_type": "code",
   "execution_count": null,
   "metadata": {},
   "outputs": [],
   "source": [
    "def get_top_vif(df):\n",
    "    from statsmodels.stats.outliers_influence import variance_inflation_factor\n",
    "\n",
    "    vif = pd.DataFrame()\n",
    "    vif['Features'] = df.columns\n",
    "    vif['VIF'] = [variance_inflation_factor(df.values, i) for i in range(df.shape[1])]\n",
    "    vif['VIF'] = round(vif['VIF'], 2)\n",
    "    \n",
    "    vif = vif.sort_values(by = \"VIF\", ascending = False)\n",
    "    \n",
    "    return (vif.head(1))"
   ]
  },
  {
   "cell_type": "code",
   "execution_count": null,
   "metadata": {},
   "outputs": [],
   "source": [
    "def drop_high_vif(df, cut_off):\n",
    "    high_vif_columns = []\n",
    "\n",
    "    while True:\n",
    "        top_vif = get_top_vif(X_train.drop(columns=high_vif_columns))\n",
    "        if top_vif.VIF.values[0] < cut_off:\n",
    "            break\n",
    "        high_vif_columns.append(top_vif.Features.values[0])\n",
    "    return high_vif_columns"
   ]
  },
  {
   "cell_type": "code",
   "execution_count": null,
   "metadata": {},
   "outputs": [],
   "source": [
    "high_vif_cols = drop_high_vif(X_train, cut_off=5)\n",
    "X_train_sm = X_train.drop(columns=high_vif_cols)"
   ]
  }
 ],
 "metadata": {
  "kernelspec": {
   "display_name": "Python 3",
   "language": "python",
   "name": "python3"
  },
  "language_info": {
   "codemirror_mode": {
    "name": "ipython",
    "version": 3
   },
   "file_extension": ".py",
   "mimetype": "text/x-python",
   "name": "python",
   "nbconvert_exporter": "python",
   "pygments_lexer": "ipython3",
   "version": "3.8.2"
  }
 },
 "nbformat": 4,
 "nbformat_minor": 4
}
