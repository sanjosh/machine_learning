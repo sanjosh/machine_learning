{
 "cells": [
  {
   "cell_type": "markdown",
   "metadata": {},
   "source": [
    "run K-means based on silhoeutte score and inertia\n",
    "\n",
    "first check hopkins statistic\n",
    "\n",
    "the null hypothesis (no meaningfull cluster) happens when the hopkins test is around 0.5 \n",
    "the hopkins test tends to 0 when meaningful cluster exists in the space \n",
    "existence of clusters when the hopkins score is bellow 0.25. \n",
    "\n",
    "the hopkins test is highly influenced by outliers, use with normalised data. https://www.kaggle.com/lachhebo/hopkins-test\n"
   ]
  },
  {
   "cell_type": "code",
   "execution_count": null,
   "metadata": {},
   "outputs": [],
   "source": [
    "from pyclustertend import hopkins \n",
    "from sklearn.preprocessing import scale\n",
    "\n",
    "hopkins(scale(df), df.shape[0])\n"
   ]
  },
  {
   "cell_type": "code",
   "execution_count": null,
   "metadata": {},
   "outputs": [],
   "source": [
    "### Data conversion\n",
    "\n",
    "categorical to continuous\n",
    "scaling with zscore\n",
    "\n",
    "https://datascience.stackexchange.com/questions/16700/confused-about-how-to-apply-kmeans-on-my-a-dataset-with-features-extracted\n",
    "    \n",
    "    \n",
    "https://datascience.stackexchange.com/questions/22/k-means-clustering-for-mixed-numeric-and-categorical-data"
   ]
  },
  {
   "cell_type": "code",
   "execution_count": null,
   "metadata": {},
   "outputs": [],
   "source": [
    "\n",
    "from sklearn.cluster import KMeans\n",
    "from sklearn.metrics import silhouette_score\n",
    "\n",
    "sil = []\n",
    "for k in range(2,10):\n",
    "    kmeans = KMeans(n_clusters  = k).fit(df)\n",
    "    sil.append([k,silhouette_score(df, kmeans.labels_)])\n",
    "    \n",
    "plt.plot(pd.DataFrame(sil)[0], pd.DataFrame(sil)[1])\n",
    "plt.vlines(x=3, ymax=0.35, ymin=0.25, colors=\"r\", linestyles=\"--\")\n",
    "plt.hlines(y=0.30, xmax=10, xmin=0, colors=\"g\", linestyles=\"--\")\n",
    "plt.show()\n",
    "\n",
    "ssd = []\n",
    "for k in range(2,10):\n",
    "    k_mean = KMeans(n_clusters = k).fit(df_countries_pca)\n",
    "    ssd.append([k, k_mean.inertia_])\n",
    "    \n",
    "plt.plot(pd.DataFrame(ssd)[0], pd.DataFrame(ssd)[1])\n",
    "\n",
    "kmean5 = KMeans(n_clusters = 3, random_state=42)\n",
    "kmean5.fit(df)"
   ]
  }
 ],
 "metadata": {
  "kernelspec": {
   "display_name": "Python 3",
   "language": "python",
   "name": "python3"
  },
  "language_info": {
   "codemirror_mode": {
    "name": "ipython",
    "version": 3
   },
   "file_extension": ".py",
   "mimetype": "text/x-python",
   "name": "python",
   "nbconvert_exporter": "python",
   "pygments_lexer": "ipython3",
   "version": "3.8.5"
  }
 },
 "nbformat": 4,
 "nbformat_minor": 4
}
