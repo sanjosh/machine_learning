{
 "cells": [
  {
   "cell_type": "code",
   "execution_count": null,
   "metadata": {},
   "outputs": [],
   "source": [
    "### run PCA again based on explained variance"
   ]
  },
  {
   "cell_type": "code",
   "execution_count": null,
   "metadata": {},
   "outputs": [],
   "source": [
    "from sklearn.decomposition import PCA\n",
    "\n",
    "pca = PCA(random_state=42)\n",
    "pca.fit(df[features])\n",
    "\n",
    "index=0\n",
    "sum=0\n",
    "for r in pca.explained_variance_ratio_:\n",
    "    sum += r\n",
    "    index += 1\n",
    "    printmd ('The cumulative variance with %s variables is **%.2f%%**.' % (i, round(sum*100)))\n",
    "    \n",
    "var_cumu = np.cumsum(pca.explained_variance_ratio_)\n",
    "fig = plt.figure(figsize=[6,4])\n",
    "plt.vlines(x=4, ymax=1, ymin=0, colors=\"r\", linestyles=\"--\")\n",
    "plt.hlines(y=0.95, xmax=10, xmin=0, colors=\"g\", linestyles=\"--\")\n",
    "plt.plot(var_cumu)\n",
    "plt.ylabel(\"Cumulative variance explained\")\n",
    "plt.show()\n",
    "\n",
    "pca_final = PCA(n_components=5, random_state=42)\n",
    "df_pca = pca_final.fit_transform(df[features])\n",
    "df_pca = pd.DataFrame(df)\n",
    "df_pca.shape"
   ]
  }
 ],
 "metadata": {
  "kernelspec": {
   "display_name": "Python 3",
   "language": "python",
   "name": "python3"
  },
  "language_info": {
   "codemirror_mode": {
    "name": "ipython",
    "version": 3
   },
   "file_extension": ".py",
   "mimetype": "text/x-python",
   "name": "python",
   "nbconvert_exporter": "python",
   "pygments_lexer": "ipython3",
   "version": "3.8.2"
  }
 },
 "nbformat": 4,
 "nbformat_minor": 4
}
