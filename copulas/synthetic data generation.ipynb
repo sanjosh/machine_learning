{
 "cells": [
  {
   "cell_type": "code",
   "execution_count": 26,
   "id": "relevant-enterprise",
   "metadata": {},
   "outputs": [],
   "source": [
    "import matplotlib.pyplot as plt \n",
    "from scipy.stats import gamma, beta, t\n",
    "import pandas as pd\n",
    "import seaborn as sns\n",
    "from scipy import stats\n",
    "import numpy as np"
   ]
  },
  {
   "cell_type": "code",
   "execution_count": 27,
   "id": "turned-working",
   "metadata": {},
   "outputs": [],
   "source": [
    "num_values = 500\n",
    "import random\n",
    "my_randoms = [round(random.uniform(1, 8),2) for x in range(num_values)]"
   ]
  },
  {
   "cell_type": "markdown",
   "id": "general-redhead",
   "metadata": {},
   "source": [
    "## Table with two columns (Speed and Age) which are inversely correlated\n",
    "\n",
    "### add random values to both columns"
   ]
  },
  {
   "cell_type": "code",
   "execution_count": 28,
   "id": "neither-egyptian",
   "metadata": {},
   "outputs": [],
   "source": [
    "\n",
    "actual_age = beta.rvs(2, 2 ,loc=30, scale=30, size=num_values)\n",
    "actual_age = np.add(actual_age, my_randoms)\n",
    "\n",
    "actual_speed = gamma.rvs(a = 10, loc=10, scale=5, size=num_values)\n",
    "actual_speed = np.add(actual_speed, my_randoms)\n",
    "\n",
    "          \n",
    "correlation_dict = {'speed': sorted(actual_speed),\n",
    "                      'age': np.sort(actual_age)[::-1] } \n",
    "\n",
    "df = pd.DataFrame.from_dict(correlation_dict) "
   ]
  },
  {
   "cell_type": "code",
   "execution_count": 29,
   "id": "equivalent-chancellor",
   "metadata": {},
   "outputs": [
    {
     "data": {
      "text/html": [
       "<div>\n",
       "<style scoped>\n",
       "    .dataframe tbody tr th:only-of-type {\n",
       "        vertical-align: middle;\n",
       "    }\n",
       "\n",
       "    .dataframe tbody tr th {\n",
       "        vertical-align: top;\n",
       "    }\n",
       "\n",
       "    .dataframe thead th {\n",
       "        text-align: right;\n",
       "    }\n",
       "</style>\n",
       "<table border=\"1\" class=\"dataframe\">\n",
       "  <thead>\n",
       "    <tr style=\"text-align: right;\">\n",
       "      <th></th>\n",
       "      <th>speed</th>\n",
       "      <th>age</th>\n",
       "    </tr>\n",
       "  </thead>\n",
       "  <tbody>\n",
       "    <tr>\n",
       "      <th>0</th>\n",
       "      <td>30.534266</td>\n",
       "      <td>65.578470</td>\n",
       "    </tr>\n",
       "    <tr>\n",
       "      <th>1</th>\n",
       "      <td>31.663099</td>\n",
       "      <td>64.579048</td>\n",
       "    </tr>\n",
       "    <tr>\n",
       "      <th>2</th>\n",
       "      <td>34.399961</td>\n",
       "      <td>64.027349</td>\n",
       "    </tr>\n",
       "    <tr>\n",
       "      <th>3</th>\n",
       "      <td>34.794013</td>\n",
       "      <td>63.341462</td>\n",
       "    </tr>\n",
       "    <tr>\n",
       "      <th>4</th>\n",
       "      <td>35.251336</td>\n",
       "      <td>63.321436</td>\n",
       "    </tr>\n",
       "    <tr>\n",
       "      <th>5</th>\n",
       "      <td>35.318384</td>\n",
       "      <td>63.249818</td>\n",
       "    </tr>\n",
       "    <tr>\n",
       "      <th>6</th>\n",
       "      <td>35.525802</td>\n",
       "      <td>63.193574</td>\n",
       "    </tr>\n",
       "    <tr>\n",
       "      <th>7</th>\n",
       "      <td>35.548848</td>\n",
       "      <td>63.193363</td>\n",
       "    </tr>\n",
       "    <tr>\n",
       "      <th>8</th>\n",
       "      <td>35.664112</td>\n",
       "      <td>63.175404</td>\n",
       "    </tr>\n",
       "    <tr>\n",
       "      <th>9</th>\n",
       "      <td>36.833500</td>\n",
       "      <td>63.060658</td>\n",
       "    </tr>\n",
       "  </tbody>\n",
       "</table>\n",
       "</div>"
      ],
      "text/plain": [
       "       speed        age\n",
       "0  30.534266  65.578470\n",
       "1  31.663099  64.579048\n",
       "2  34.399961  64.027349\n",
       "3  34.794013  63.341462\n",
       "4  35.251336  63.321436\n",
       "5  35.318384  63.249818\n",
       "6  35.525802  63.193574\n",
       "7  35.548848  63.193363\n",
       "8  35.664112  63.175404\n",
       "9  36.833500  63.060658"
      ]
     },
     "execution_count": 29,
     "metadata": {},
     "output_type": "execute_result"
    }
   ],
   "source": [
    "df.head(10)"
   ]
  },
  {
   "cell_type": "code",
   "execution_count": 30,
   "id": "coupled-roots",
   "metadata": {},
   "outputs": [
    {
     "data": {
      "text/plain": [
       "<seaborn.axisgrid.FacetGrid at 0x7f5432b159a0>"
      ]
     },
     "execution_count": 30,
     "metadata": {},
     "output_type": "execute_result"
    },
    {
     "data": {
      "image/png": "[encoded data removed]",
      "text/plain": [
       "<Figure size 360x360 with 1 Axes>"
      ]
     },
     "metadata": {
      "needs_background": "light"
     },
     "output_type": "display_data"
    }
   ],
   "source": [
    "sns.lmplot(x ='age', y ='speed', data = df)"
   ]
  },
  {
   "cell_type": "markdown",
   "id": "wireless-conversation",
   "metadata": {},
   "source": [
    "# Density Estimation\n",
    "\n",
    "## Fitting a Beta Distribution to the Age column"
   ]
  },
  {
   "cell_type": "code",
   "execution_count": 31,
   "id": "elect-anaheim",
   "metadata": {},
   "outputs": [],
   "source": [
    "age_a, age_b, age_loc, age_scale = beta.fit(df.age)"
   ]
  },
  {
   "cell_type": "markdown",
   "id": "received-designation",
   "metadata": {},
   "source": [
    "## Generate synthetic data from this beta\n"
   ]
  },
  {
   "cell_type": "code",
   "execution_count": null,
   "id": "combined-reputation",
   "metadata": {},
   "outputs": [],
   "source": [
    "synthetic_age_beta = beta.rvs(age_a, age_b ,loc=age_loc,scale=age_scale,size=len(df.age))"
   ]
  },
  {
   "cell_type": "markdown",
   "id": "incredible-release",
   "metadata": {},
   "source": [
    "## Difference between actual vs synthetic Age column"
   ]
  },
  {
   "cell_type": "code",
   "execution_count": 35,
   "id": "circular-civilization",
   "metadata": {},
   "outputs": [
    {
     "data": {
      "image/png": "[encoded data removed]",
      "text/plain": [
       "<Figure size 432x288 with 1 Axes>"
      ]
     },
     "metadata": {
      "needs_background": "light"
     },
     "output_type": "display_data"
    }
   ],
   "source": [
    "plt.plot(sorted(synthetic_age_beta), label='Synthetic Age')\n",
    "plt.plot(sorted(df.age), label='Original Age')\n",
    "plt.legend()\n",
    "plt.show()"
   ]
  },
  {
   "cell_type": "markdown",
   "id": "practical-immigration",
   "metadata": {},
   "source": [
    "## Fit gamma to original speed column\n"
   ]
  },
  {
   "cell_type": "code",
   "execution_count": 36,
   "id": "adjacent-startup",
   "metadata": {},
   "outputs": [],
   "source": [
    "speed_a, speed_loc, speed_scale = gamma.fit(df.speed)"
   ]
  },
  {
   "cell_type": "markdown",
   "id": "aerial-impression",
   "metadata": {},
   "source": [
    "# 2. Covariance and Correlation\n",
    "\n",
    "Covariance = measure if elements from two arrays move in the same direction\n",
    "\n",
    "correlation = normalized covariance (always between -1 and 1)\n",
    "\n",
    "## Off-diagonal entries are almost -1 because columns are inversely correlated"
   ]
  },
  {
   "cell_type": "code",
   "execution_count": 37,
   "id": "understanding-vertical",
   "metadata": {},
   "outputs": [
    {
     "data": {
      "image/png": "[encoded data removed]",
      "text/plain": [
       "<Figure size 432x288 with 1 Axes>"
      ]
     },
     "metadata": {
      "needs_background": "light"
     },
     "output_type": "display_data"
    }
   ],
   "source": [
    "fig, ax = plt.subplots()\n",
    "\n",
    "ax.matshow(df.corr().values, cmap=plt.cm.Pastel2)\n",
    "ax.set_title('Off-diagonal are almost -1 (negative correlation)', fontsize=18)\n",
    "\n",
    "for i in range(2):\n",
    "    for j in range(2):\n",
    "        c = round(df.corr().values[j,i], 3)\n",
    "        ax.text(i, j, str(c), va='center', ha='center')"
   ]
  },
  {
   "cell_type": "code",
   "execution_count": 38,
   "id": "prepared-costume",
   "metadata": {},
   "outputs": [
    {
     "data": {
      "image/png": "[encoded data removed]",
      "text/plain": [
       "<Figure size 432x432 with 3 Axes>"
      ]
     },
     "metadata": {
      "needs_background": "light"
     },
     "output_type": "display_data"
    }
   ],
   "source": [
    "h = sns.jointplot(df.age, df.speed, kind='kde', stat_func=None);\n",
    "h.set_axis_labels('Actual_Age', 'Actual_Speed',  fontsize=16);"
   ]
  },
  {
   "cell_type": "markdown",
   "id": "musical-skill",
   "metadata": {},
   "source": [
    "## Create a Gaussian Copula using the Correlation matrix of above table (df.corr)"
   ]
  },
  {
   "cell_type": "code",
   "execution_count": 40,
   "id": "ruled-secondary",
   "metadata": {},
   "outputs": [
    {
     "data": {
      "image/png": "[encoded data removed]",
      "text/plain": [
       "<Figure size 432x432 with 3 Axes>"
      ]
     },
     "metadata": {
      "needs_background": "light"
     },
     "output_type": "display_data"
    }
   ],
   "source": [
    "mvnorm = stats.multivariate_normal(mean=[0, 0], cov=df.corr().values)\n",
    "x = mvnorm.rvs(500)\n",
    "\n",
    "h = sns.jointplot(x[:, 0], x[:, 1], kind='kde', stat_func=None);\n",
    "h.set_axis_labels('age', 'speed', fontsize=16);"
   ]
  },
  {
   "cell_type": "markdown",
   "id": "neutral-parts",
   "metadata": {},
   "source": [
    "## Modify the Copula to have the original Age and Speed distributions\n",
    "\n",
    "ppf = inverse of CDF"
   ]
  },
  {
   "cell_type": "code",
   "execution_count": 41,
   "id": "attached-departure",
   "metadata": {},
   "outputs": [],
   "source": [
    "norm = stats.norm()\n",
    "x_unif = norm.cdf(x)\n",
    "\n",
    "age_distribution = stats.beta(a=age_a, b=age_b, loc=age_loc, scale=age_scale)  # Age column\n",
    "\n",
    "speed_distribution = stats.gamma(a=speed_a, loc=speed_loc,scale=speed_scale)\n",
    "\n",
    "age_ppf = age_distribution.ppf(x_unif[:, 0])\n",
    "\n",
    "speed_ppf = speed_distribution.ppf(x_unif[:, 1])"
   ]
  },
  {
   "cell_type": "markdown",
   "id": "scenic-basis",
   "metadata": {},
   "source": [
    "## Create Synthetic Table which has same correlation and same column distributions"
   ]
  },
  {
   "cell_type": "code",
   "execution_count": 42,
   "id": "floating-measure",
   "metadata": {},
   "outputs": [],
   "source": [
    "synthetic_df = pd.DataFrame({ 'speed' : speed_ppf, 'age' : age_ppf})\n",
    "synthetic_df = synthetic_df.sort_values('speed')"
   ]
  },
  {
   "cell_type": "markdown",
   "id": "earlier-turkey",
   "metadata": {},
   "source": [
    "## How the synthetic data looks "
   ]
  },
  {
   "cell_type": "code",
   "execution_count": null,
   "id": "immediate-beads",
   "metadata": {},
   "outputs": [],
   "source": [
    "synthetic_df.head(10)"
   ]
  },
  {
   "cell_type": "markdown",
   "id": "modified-ontario",
   "metadata": {},
   "source": [
    "## The correlation matrix is almost same as the original covariance above\n",
    "## Off-diagonal entries are again almost -1"
   ]
  },
  {
   "cell_type": "code",
   "execution_count": null,
   "id": "perfect-incidence",
   "metadata": {},
   "outputs": [],
   "source": [
    "\n",
    "fig, (ax1, ax2) = plt.subplots(1, 2)\n",
    "\n",
    "ax1.matshow(synthetic_df.corr().values, cmap=plt.cm.Pastel2)\n",
    "ax1.set_title('Synthetic', fontsize=18)\n",
    "\n",
    "for i in range(2):\n",
    "    for j in range(2):\n",
    "        c = round(synthetic_df.corr().values[j,i], 3)\n",
    "        ax1.text(i, j, str(c), va='center', ha='center')\n",
    "        \n",
    "ax2.matshow(df.corr().values, cmap=plt.cm.Pastel2)\n",
    "ax2.set_title('Original', fontsize=18)\n",
    "\n",
    "for i in range(2):\n",
    "    for j in range(2):\n",
    "        c = round(df.corr().values[j,i], 3)\n",
    "        ax2.text(i, j, str(c), va='center', ha='center')"
   ]
  },
  {
   "cell_type": "code",
   "execution_count": null,
   "id": "abroad-large",
   "metadata": {},
   "outputs": [],
   "source": [
    "lm=sns.lmplot(x ='age', y ='speed', data = synthetic_df)\n",
    "fig = lm.fig \n",
    "fig.suptitle(\"Synthetic\", fontsize=18)\n",
    "\n",
    "lm=sns.lmplot(x ='age', y ='speed', data = df)\n",
    "fig = lm.fig \n",
    "fig.suptitle(\"Original\", fontsize=18)"
   ]
  },
  {
   "cell_type": "markdown",
   "id": "gentle-economics",
   "metadata": {},
   "source": [
    "## The original and synthetic data have same dependence "
   ]
  },
  {
   "cell_type": "code",
   "execution_count": null,
   "id": "conventional-spouse",
   "metadata": {},
   "outputs": [],
   "source": [
    "\n",
    "h = sns.jointplot(synthetic_df.age, synthetic_df.speed, kind='kde', stat_func=None);\n",
    "h.set_axis_labels('Synthetic_Age', 'Synthetic_Speed',  fontsize=16);\n",
    "\n",
    "h = sns.jointplot(df.age, df.speed, kind='kde', stat_func=None);\n",
    "h.set_axis_labels('Actual_Age', 'Actual_Speed',  fontsize=16);"
   ]
  },
  {
   "cell_type": "code",
   "execution_count": null,
   "id": "associate-thomson",
   "metadata": {},
   "outputs": [],
   "source": []
  }
 ],
 "metadata": {
  "kernelspec": {
   "display_name": "Python 3",
   "language": "python",
   "name": "python3"
  },
  "language_info": {
   "codemirror_mode": {
    "name": "ipython",
    "version": 3
   },
   "file_extension": ".py",
   "mimetype": "text/x-python",
   "name": "python",
   "nbconvert_exporter": "python",
   "pygments_lexer": "ipython3",
   "version": "3.8.6"
  }
 },
 "nbformat": 4,
 "nbformat_minor": 5
}
