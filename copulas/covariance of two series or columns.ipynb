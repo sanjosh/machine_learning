{
 "cells": [
  {
   "cell_type": "code",
   "execution_count": 1,
   "id": "organizational-portrait",
   "metadata": {},
   "outputs": [],
   "source": [
    "import pandas as pd\n",
    "import seaborn as sns"
   ]
  },
  {
   "cell_type": "markdown",
   "id": "published-finnish",
   "metadata": {},
   "source": [
    "### covariance  and correlation\n",
    "\n",
    "Covariance = measure if elements from two arrays move in the same direction\n",
    "\n",
    "correlation = normalized covariance (always between -1 and 1)\n",
    "\n"
   ]
  },
  {
   "cell_type": "code",
   "execution_count": 2,
   "id": "heated-hayes",
   "metadata": {},
   "outputs": [
    {
     "name": "stdout",
     "output_type": "stream",
     "text": [
      "   speed  age\n",
      "0      1  664\n",
      "1      2   55\n",
      "2      3   46\n",
      "3      4    3\n",
      "4      5    2\n"
     ]
    },
    {
     "data": {
      "image/png": "[encoded data removed]",
      "text/plain": [
       "<Figure size 432x432 with 3 Axes>"
      ]
     },
     "metadata": {
      "needs_background": "light"
     },
     "output_type": "display_data"
    }
   ],
   "source": [
    "negative_corr_dict = {'speed': [1, 2, 3, 4, 5, 6], \n",
    "        'age': [664, 55, 46, 3, 2, 1]} \n",
    "\n",
    "new = pd.DataFrame.from_dict(negative_corr_dict) \n",
    "print(new.head())\n",
    "h = sns.jointplot(new.age, new.speed, stat_func=None)\n"
   ]
  },
  {
   "cell_type": "code",
   "execution_count": 3,
   "id": "acting-packing",
   "metadata": {},
   "outputs": [
    {
     "name": "stdout",
     "output_type": "stream",
     "text": [
      "[[ 3.50000e+00 -3.51700e+02]\n",
      " [-3.51700e+02  6.93955e+04]]\n"
     ]
    }
   ],
   "source": [
    "print(new.cov().values)"
   ]
  },
  {
   "cell_type": "code",
   "execution_count": 4,
   "id": "efficient-piece",
   "metadata": {},
   "outputs": [
    {
     "name": "stdout",
     "output_type": "stream",
     "text": [
      "[[ 1.         -0.71362933]\n",
      " [-0.71362933  1.        ]]\n"
     ]
    }
   ],
   "source": [
    "# between -1 and 1\n",
    "\n",
    "print(new.corr().values)"
   ]
  },
  {
   "cell_type": "markdown",
   "id": "neither-frank",
   "metadata": {},
   "source": [
    "### convert correlation to covariance\n",
    "\n",
    "C = { std dev of each column }\n",
    "\n",
    "D = Diagonal(C)\n",
    "\n",
    "covariance = D*correlation*D; "
   ]
  },
  {
   "cell_type": "markdown",
   "id": "extra-power",
   "metadata": {},
   "source": [
    " \n",
    "  \n",
    "---\n",
    "<br>\n",
    "\n",
    "### negative correlation\n",
    " "
   ]
  },
  {
   "cell_type": "code",
   "execution_count": 5,
   "id": "thirty-pixel",
   "metadata": {},
   "outputs": [
    {
     "name": "stdout",
     "output_type": "stream",
     "text": [
      "   speed  age\n",
      "0      1  664\n",
      "1      2   55\n",
      "2      3   46\n",
      "3      4    3\n",
      "4      5    2\n",
      "\n",
      "\n",
      "\n",
      "CORRELATION\n",
      "[[ 1.         -0.71362933]\n",
      " [-0.71362933  1.        ]]\n"
     ]
    },
    {
     "data": {
      "image/png": "[encoded data removed]",
      "text/plain": [
       "<Figure size 432x432 with 3 Axes>"
      ]
     },
     "metadata": {
      "needs_background": "light"
     },
     "output_type": "display_data"
    }
   ],
   "source": [
    "negative_corr_dict = {'speed': [1, 2, 3, 4, 5, 6], \n",
    "        'age': [664, 55, 46, 3, 2, 1]} \n",
    "\n",
    "new = pd.DataFrame.from_dict(negative_corr_dict) \n",
    "print(new.head())\n",
    "print('\\n\\n\\nCORRELATION')\n",
    "print(new.corr().values)\n",
    "\n",
    "h = sns.jointplot(new.age, new.speed, stat_func=None)\n"
   ]
  },
  {
   "cell_type": "markdown",
   "id": "appreciated-gateway",
   "metadata": {},
   "source": [
    "  \n",
    "---\n",
    "<br>\n",
    "\n",
    "### positive correlation"
   ]
  },
  {
   "cell_type": "code",
   "execution_count": 6,
   "id": "discrete-costume",
   "metadata": {},
   "outputs": [
    {
     "name": "stdout",
     "output_type": "stream",
     "text": [
      "   speed  age\n",
      "0      1   10\n",
      "1      2   11\n",
      "2      3   15\n",
      "3      4   24\n",
      "4      5   67\n",
      "\n",
      "\n",
      "\n",
      "CORRELATION\n",
      "[[1.         0.90158816]\n",
      " [0.90158816 1.        ]]\n"
     ]
    },
    {
     "data": {
      "image/png": "[encoded data removed]",
      "text/plain": [
       "<Figure size 432x432 with 3 Axes>"
      ]
     },
     "metadata": {
      "needs_background": "light"
     },
     "output_type": "display_data"
    }
   ],
   "source": [
    "\n",
    "positive_corr_dict =  {'speed': [1, 2, 3, 4, 5, 6], \n",
    "        'age': [10, 11, 15, 24, 67, 99]}\n",
    "\n",
    "new = pd.DataFrame.from_dict(positive_corr_dict) \n",
    "print(new.head())\n",
    "print('\\n\\n\\nCORRELATION')\n",
    "print(new.corr().values)\n",
    "\n",
    "h = sns.jointplot(new.age, new.speed, stat_func=None)\n"
   ]
  },
  {
   "cell_type": "markdown",
   "id": "heard-badge",
   "metadata": {},
   "source": [
    "---\n",
    "<br>\n",
    "\n",
    "### bimodal correlation"
   ]
  },
  {
   "cell_type": "code",
   "execution_count": 7,
   "id": "compound-franklin",
   "metadata": {},
   "outputs": [
    {
     "name": "stdout",
     "output_type": "stream",
     "text": [
      "   speed  age\n",
      "0      1   10\n",
      "1     22   11\n",
      "2    300  915\n",
      "3    100  624\n",
      "4     67  123\n",
      "\n",
      "\n",
      "\n",
      "CORRELATION\n",
      "[[1.         0.92386822]\n",
      " [0.92386822 1.        ]]\n"
     ]
    },
    {
     "data": {
      "image/png": "[encoded data removed]",
      "text/plain": [
       "<Figure size 432x432 with 3 Axes>"
      ]
     },
     "metadata": {
      "needs_background": "light"
     },
     "output_type": "display_data"
    }
   ],
   "source": [
    "\n",
    "bimodal_dict = {'speed': [1, 22, 300, 100, 67, 6], \n",
    "        'age': [10, 11, 915, 624, 123, 99]}  \n",
    "\n",
    "new = pd.DataFrame.from_dict(bimodal_dict) \n",
    "print(new.head())\n",
    "print('\\n\\n\\nCORRELATION')\n",
    "print(new.corr().values)\n",
    "\n",
    "h = sns.jointplot(new.age, new.speed, stat_func=None)\n"
   ]
  },
  {
   "cell_type": "markdown",
   "id": "spanish-harvard",
   "metadata": {},
   "source": [
    "---\n",
    "<br>\n",
    "\n",
    "### no correlation"
   ]
  },
  {
   "cell_type": "code",
   "execution_count": 8,
   "id": "asian-citizenship",
   "metadata": {},
   "outputs": [
    {
     "name": "stdout",
     "output_type": "stream",
     "text": [
      "   speed   age\n",
      "0      1   664\n",
      "1     22    55\n",
      "2    300  2246\n",
      "3    100     3\n",
      "4     67    24\n",
      "\n",
      "\n",
      "\n",
      "CORRELATION\n",
      "[[ 1.         -0.21696887]\n",
      " [-0.21696887  1.        ]]\n"
     ]
    },
    {
     "data": {
      "image/png": "[encoded data removed]",
      "text/plain": [
       "<Figure size 432x432 with 3 Axes>"
      ]
     },
     "metadata": {
      "needs_background": "light"
     },
     "output_type": "display_data"
    }
   ],
   "source": [
    "\n",
    "no_corr_dict = {'speed': [1, 22, 300, 100, 67, 6], \n",
    "        'age': [664, 55, 2246, 3, 24, 15354]} \n",
    "\n",
    "new = pd.DataFrame.from_dict(no_corr_dict) \n",
    "print(new.head())\n",
    "print('\\n\\n\\nCORRELATION')\n",
    "print(new.corr().values)\n",
    "\n",
    "h = sns.jointplot(new.age, new.speed, stat_func=None)\n"
   ]
  },
  {
   "cell_type": "code",
   "execution_count": null,
   "id": "spread-humidity",
   "metadata": {},
   "outputs": [],
   "source": []
  }
 ],
 "metadata": {
  "kernelspec": {
   "display_name": "Python 3",
   "language": "python",
   "name": "python3"
  },
  "language_info": {
   "codemirror_mode": {
    "name": "ipython",
    "version": 3
   },
   "file_extension": ".py",
   "mimetype": "text/x-python",
   "name": "python",
   "nbconvert_exporter": "python",
   "pygments_lexer": "ipython3",
   "version": "3.8.6"
  }
 },
 "nbformat": 4,
 "nbformat_minor": 5
}
